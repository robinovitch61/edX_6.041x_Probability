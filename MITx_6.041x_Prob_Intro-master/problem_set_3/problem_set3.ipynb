{
 "cells": [
  {
   "cell_type": "code",
   "execution_count": 2,
   "metadata": {
    "collapsed": false
   },
   "outputs": [],
   "source": [
    "import random\n",
    "import itertools\n",
    "from scipy.misc import comb, factorial\n",
    "import numpy as np\n",
    "import pandas as pd"
   ]
  },
  {
   "cell_type": "code",
   "execution_count": 3,
   "metadata": {
    "collapsed": true
   },
   "outputs": [],
   "source": [
    "SUITS = 'cdhs'\n",
    "RANKS = '23456789TJQKA'\n",
    "DECK = tuple(''.join(card) for card in itertools.product(RANKS, SUITS))\n"
   ]
  },
  {
   "cell_type": "markdown",
   "metadata": {},
   "source": [
    "# What is the probability the 13th card dealt is a King? "
   ]
  },
  {
   "cell_type": "code",
   "execution_count": 4,
   "metadata": {
    "collapsed": false
   },
   "outputs": [
    {
     "data": {
      "text/plain": [
       "0.07676"
      ]
     },
     "execution_count": 4,
     "metadata": {},
     "output_type": "execute_result"
    }
   ],
   "source": [
    "N = 50000\n",
    "sum = 0\n",
    "for idx in range(N):\n",
    "    hand = random.sample(DECK, 13)\n",
    "    if 'K' in hand[-1]:\n",
    "         sum += 1\n",
    "sum/N"
   ]
  },
  {
   "cell_type": "code",
   "execution_count": 5,
   "metadata": {
    "collapsed": false
   },
   "outputs": [
    {
     "name": "stdout",
     "output_type": "stream",
     "text": [
      "0.07692307692307693\n"
     ]
    }
   ],
   "source": [
    "num = np.arange(start=51, stop=51-12, step=-1)\n",
    "den = np.arange(start=52, stop=52-13, step=-1)\n",
    "#4 * np.exp(np.sum(np.log(num)) - np.sum(np.log(den)))\n",
    "ans = 4/52\n",
    "print(ans)"
   ]
  },
  {
   "cell_type": "markdown",
   "metadata": {},
   "source": [
    "** Theory **"
   ]
  },
  {
   "cell_type": "markdown",
   "metadata": {},
   "source": [
    "# Find the probability of the event that the 13th card dealt is the first King dealt. Identify the correct expression."
   ]
  },
  {
   "cell_type": "code",
   "execution_count": 6,
   "metadata": {
    "collapsed": false
   },
   "outputs": [
    {
     "data": {
      "text/plain": [
       "0.03454"
      ]
     },
     "execution_count": 6,
     "metadata": {},
     "output_type": "execute_result"
    }
   ],
   "source": [
    "N = 50000\n",
    "sum = 0\n",
    "for idx in range(N):\n",
    "    hand = random.sample(DECK, 13)\n",
    "    hand = [x[0] for x in hand]\n",
    "    last_K = 'K' in hand[-1]\n",
    "    only_K = 'K' not in hand[0:-1]\n",
    "    if last_K and only_K:\n",
    "        sum += 1\n",
    "sum/N"
   ]
  },
  {
   "cell_type": "code",
   "execution_count": 7,
   "metadata": {
    "collapsed": false
   },
   "outputs": [
    {
     "data": {
      "text/plain": [
       "0.03375750300120048"
      ]
     },
     "execution_count": 7,
     "metadata": {},
     "output_type": "execute_result"
    }
   ],
   "source": [
    "num = 4 * 39 * 38 * 37\n",
    "den = 52 * 51 * 50 * 49\n",
    "num/den"
   ]
  },
  {
   "cell_type": "code",
   "execution_count": 8,
   "metadata": {
    "collapsed": false
   },
   "outputs": [
    {
     "data": {
      "text/plain": [
       "0.033757503001200478"
      ]
     },
     "execution_count": 8,
     "metadata": {},
     "output_type": "execute_result"
    }
   ],
   "source": [
    "4/13 * comb(48, 12)/comb(52, 13)"
   ]
  },
  {
   "cell_type": "markdown",
   "metadata": {
    "collapsed": true
   },
   "source": [
    "# Splitting students into 3 classes"
   ]
  },
  {
   "cell_type": "code",
   "execution_count": 117,
   "metadata": {
    "collapsed": true
   },
   "outputs": [],
   "source": [
    "def mk_three_groups(num_students=9):\n",
    "    \"\"\"simulate making three groups of students\"\"\"\n",
    "    my_class = list(range(0, num_students))\n",
    "    num_per_class = num_students//3\n",
    "    \n",
    "    gp1 = random.sample(my_class, num_per_class)\n",
    "    rem_class = [x for x in my_class if x not in gp1]\n",
    "\n",
    "    gp2 = random.sample(rem_class, num_per_class)\n",
    "    gp3 = [x for x in rem_class if x not in gp2]\n",
    "    return gp1, gp2, gp3\n",
    "\n",
    "def in_same_class(groups):\n",
    "    \"\"\" Check if two students are in the same class\"\"\"\n",
    "    succ = False\n",
    "    for gp in groups:\n",
    "        succ = (0 in gp) and (1 in gp)\n",
    "        if succ:\n",
    "            break\n",
    "    return succ"
   ]
  },
  {
   "cell_type": "code",
   "execution_count": 118,
   "metadata": {
    "collapsed": false
   },
   "outputs": [
    {
     "name": "stdout",
     "output_type": "stream",
     "text": [
      "0.3323\n"
     ]
    }
   ],
   "source": [
    "num_sim = 10000\n",
    "num_succ = 0\n",
    "for i_sum in range(num_sim):\n",
    "    groups = mk_three_groups(num_students=90)\n",
    "    if in_same_class(groups):\n",
    "        num_succ += 1\n",
    "print(num_succ/num_sim)"
   ]
  },
  {
   "cell_type": "markdown",
   "metadata": {},
   "source": [
    "# Problem 4 Vertical: A three-sided die"
   ]
  },
  {
   "cell_type": "code",
   "execution_count": 67,
   "metadata": {
    "collapsed": false
   },
   "outputs": [
    {
     "data": {
      "text/html": [
       "<div>\n",
       "<table border=\"1\" class=\"dataframe\">\n",
       "  <thead>\n",
       "    <tr style=\"text-align: right;\">\n",
       "      <th></th>\n",
       "      <th>N1</th>\n",
       "      <th>N2</th>\n",
       "      <th>N3</th>\n",
       "    </tr>\n",
       "  </thead>\n",
       "  <tbody>\n",
       "    <tr>\n",
       "      <th>0</th>\n",
       "      <td>3.0</td>\n",
       "      <td>1.0</td>\n",
       "      <td>2.0</td>\n",
       "    </tr>\n",
       "    <tr>\n",
       "      <th>1</th>\n",
       "      <td>2.0</td>\n",
       "      <td>2.0</td>\n",
       "      <td>2.0</td>\n",
       "    </tr>\n",
       "    <tr>\n",
       "      <th>2</th>\n",
       "      <td>4.0</td>\n",
       "      <td>1.0</td>\n",
       "      <td>1.0</td>\n",
       "    </tr>\n",
       "    <tr>\n",
       "      <th>3</th>\n",
       "      <td>4.0</td>\n",
       "      <td>1.0</td>\n",
       "      <td>1.0</td>\n",
       "    </tr>\n",
       "    <tr>\n",
       "      <th>4</th>\n",
       "      <td>3.0</td>\n",
       "      <td>1.0</td>\n",
       "      <td>2.0</td>\n",
       "    </tr>\n",
       "  </tbody>\n",
       "</table>\n",
       "</div>"
      ],
      "text/plain": [
       "    N1   N2   N3\n",
       "0  3.0  1.0  2.0\n",
       "1  2.0  2.0  2.0\n",
       "2  4.0  1.0  1.0\n",
       "3  4.0  1.0  1.0\n",
       "4  3.0  1.0  2.0"
      ]
     },
     "execution_count": 67,
     "metadata": {},
     "output_type": "execute_result"
    }
   ],
   "source": [
    "num_simu = 15000\n",
    "\n",
    "xpt = np.random.choice([1, 2, 3], size=(num_simu, 6), p=[0.5, 0.25, 0.25])\n",
    "df_xpt = pd.DataFrame(xpt)\n",
    "\n",
    "# count row by row\n",
    "# https://goo.gl/svhSTC\n",
    "df = df_xpt.apply(pd.Series.value_counts, axis=1).fillna(0)\n",
    "df = df.rename(columns={1: 'N1', 2: 'N2', 3: 'N3'})\n",
    "df.head()"
   ]
  },
  {
   "cell_type": "markdown",
   "metadata": {},
   "source": [
    "## Find the probability that exactly two of the rolls results in a 3."
   ]
  },
  {
   "cell_type": "code",
   "execution_count": 68,
   "metadata": {
    "collapsed": false
   },
   "outputs": [
    {
     "name": "stdout",
     "output_type": "stream",
     "text": [
      "0.2869333333333333\n"
     ]
    }
   ],
   "source": [
    "num = df[df.N3 == 2].shape[0]\n",
    "den = df.shape[0]\n",
    "\n",
    "print(num/den)"
   ]
  },
  {
   "cell_type": "markdown",
   "metadata": {},
   "source": [
    "** Theory **"
   ]
  },
  {
   "cell_type": "code",
   "execution_count": 69,
   "metadata": {
    "collapsed": false
   },
   "outputs": [
    {
     "data": {
      "text/plain": [
       "0.296630859375"
      ]
     },
     "execution_count": 69,
     "metadata": {},
     "output_type": "execute_result"
    }
   ],
   "source": [
    "comb(6, 2) * (1/4)**2 * (3/4)**4"
   ]
  },
  {
   "cell_type": "markdown",
   "metadata": {},
   "source": [
    "## Given that exactly two of the six rolls resulted in a 1, find the probability that the first roll resulted in a 1. "
   ]
  },
  {
   "cell_type": "markdown",
   "metadata": {},
   "source": [
    "** Simulation **"
   ]
  },
  {
   "cell_type": "code",
   "execution_count": 70,
   "metadata": {
    "collapsed": false
   },
   "outputs": [],
   "source": [
    "# find all experiments where number of 1's is two\n",
    "df_given = df_xpt.loc[df.N1 == 2]"
   ]
  },
  {
   "cell_type": "code",
   "execution_count": 71,
   "metadata": {
    "collapsed": false
   },
   "outputs": [],
   "source": [
    "df_first = df_given[df_given.loc[:, 0] == 1]"
   ]
  },
  {
   "cell_type": "code",
   "execution_count": 72,
   "metadata": {
    "collapsed": false
   },
   "outputs": [
    {
     "name": "stdout",
     "output_type": "stream",
     "text": [
      "1133/3511 = 0.32270008544574197\n"
     ]
    }
   ],
   "source": [
    "num_simu = df_first.shape[0]\n",
    "den_simu = df_given.shape[0]\n",
    "\n",
    "res_simu = num_simu/den_simu\n",
    "print(\"{0}/{1} = {2}\".format(num_simu, den_simu, res_simu))"
   ]
  },
  {
   "cell_type": "markdown",
   "metadata": {},
   "source": [
    "** Theory **"
   ]
  },
  {
   "cell_type": "code",
   "execution_count": 114,
   "metadata": {
    "collapsed": false
   },
   "outputs": [
    {
     "name": "stdout",
     "output_type": "stream",
     "text": [
      "0.078125/0.234375 = 0.3333333333333333\n"
     ]
    }
   ],
   "source": [
    "den_thry = comb(6, 2) * (1/2)**2 * (1/2)**4\n",
    "num_thry = (1/2) * comb(5, 1) * (1/2)**1 * (1/2)**4\n",
    "\n",
    "res_thry = num_thry/den_thry\n",
    "print(\"{0}/{1} = {2}\".format(num_thry, den_thry, res_thry))"
   ]
  },
  {
   "cell_type": "markdown",
   "metadata": {},
   "source": [
    "## We are told that exactly three of the rolls resulted in a 1 and exactly three rolls resulted in a 2. Given this information, find the probability that the six rolls resulted in the sequence (1,2,1,2,1,2). "
   ]
  },
  {
   "cell_type": "code",
   "execution_count": 74,
   "metadata": {
    "collapsed": false
   },
   "outputs": [],
   "source": [
    "df_given = df_xpt.loc[(df.N1 == 3) & (df.N2 == 3)]"
   ]
  },
  {
   "cell_type": "code",
   "execution_count": 75,
   "metadata": {
    "collapsed": true
   },
   "outputs": [],
   "source": [
    "df_seq = df_given[(df_given.loc[:,0]==1) & (df_given.loc[:,2]==1) & (df_given.loc[:,4]==1) &\n",
    "                  (df_given.loc[:,1]==2) & (df_given.loc[:,3]==2) & (df_given.loc[:,5]==2)]"
   ]
  },
  {
   "cell_type": "code",
   "execution_count": 76,
   "metadata": {
    "collapsed": false
   },
   "outputs": [
    {
     "name": "stdout",
     "output_type": "stream",
     "text": [
      "39/648 = 0.06018518518518518\n"
     ]
    }
   ],
   "source": [
    "num_simu = df_seq.shape[0]\n",
    "den_simu = df_given.shape[0]\n",
    "\n",
    "res_simu = num_simu/den_simu\n",
    "print(\"{0}/{1} = {2}\".format(num_simu, den_simu, res_simu))"
   ]
  },
  {
   "cell_type": "markdown",
   "metadata": {},
   "source": [
    "** Theory **"
   ]
  },
  {
   "cell_type": "code",
   "execution_count": 77,
   "metadata": {
    "collapsed": false
   },
   "outputs": [
    {
     "name": "stdout",
     "output_type": "stream",
     "text": [
      "0.001953125/0.0390625 = 0.05\n"
     ]
    }
   ],
   "source": [
    "num_thry = (1/2)**3 * (1/4)**3\n",
    "den_thry = factorial(6)/(factorial(3))**2 * (1/2)**3 * (1/4)**3\n",
    "\n",
    "res_thry = num_thry/den_thry\n",
    "print(\"{0}/{1} = {2}\".format(num_thry, den_thry, res_thry))"
   ]
  },
  {
   "cell_type": "markdown",
   "metadata": {},
   "source": [
    "# Problem 5 Vertical: Hats in a box\n"
   ]
  },
  {
   "cell_type": "markdown",
   "metadata": {},
   "source": [
    "## Every person gets his or her own hat back."
   ]
  },
  {
   "cell_type": "code",
   "execution_count": 96,
   "metadata": {
    "collapsed": false
   },
   "outputs": [
    {
     "name": "stdout",
     "output_type": "stream",
     "text": [
      "0.0013\n"
     ]
    }
   ],
   "source": [
    "num_people = 6\n",
    "people_list = list(range(0, num_people))\n",
    "\n",
    "num_simu = 10000\n",
    "count = 0\n",
    "for idx in range(num_simu):\n",
    "    tmp = np.random.choice(people_list, size=num_people, replace=False)\n",
    "    if list(tmp) == people_list:\n",
    "        count += 1\n",
    "print(count/num_simu)    "
   ]
  },
  {
   "cell_type": "markdown",
   "metadata": {},
   "source": [
    "** theory **"
   ]
  },
  {
   "cell_type": "code",
   "execution_count": 97,
   "metadata": {
    "collapsed": false
   },
   "outputs": [
    {
     "name": "stdout",
     "output_type": "stream",
     "text": [
      "0.00138888888889\n"
     ]
    }
   ],
   "source": [
    "print(1/factorial(num_people))"
   ]
  },
  {
   "cell_type": "markdown",
   "metadata": {},
   "source": [
    "## Each one of persons 1,…,m gets his or her own hat back, where 1≤m≤n.\n",
    "\n",
    "\n"
   ]
  },
  {
   "cell_type": "code",
   "execution_count": 109,
   "metadata": {
    "collapsed": false
   },
   "outputs": [
    {
     "name": "stdout",
     "output_type": "stream",
     "text": [
      "0.0081\n"
     ]
    }
   ],
   "source": [
    "num_people = 6\n",
    "m = 3\n",
    "people_list = list(range(0, num_people))\n",
    "\n",
    "num_simu = 10000\n",
    "count = 0\n",
    "for idx in range(num_simu):\n",
    "    tmp = np.random.choice(people_list, size=num_people, replace=False)\n",
    "    if list(tmp[0:m]) == people_list[0:m]:\n",
    "        count += 1\n",
    "print(count/num_simu)   "
   ]
  },
  {
   "cell_type": "markdown",
   "metadata": {},
   "source": [
    "** theory **"
   ]
  },
  {
   "cell_type": "code",
   "execution_count": 110,
   "metadata": {
    "collapsed": false
   },
   "outputs": [
    {
     "name": "stdout",
     "output_type": "stream",
     "text": [
      "0.00833333333333\n"
     ]
    }
   ],
   "source": [
    "n = num_people\n",
    "print(factorial(n-m)/factorial(n))"
   ]
  },
  {
   "cell_type": "markdown",
   "metadata": {},
   "source": [
    "## Each one of persons 1,…,m gets back a hat belonging to one of the last m persons (persons n−m+1,…,n), where 1≤m≤n."
   ]
  },
  {
   "cell_type": "code",
   "execution_count": null,
   "metadata": {
    "collapsed": true
   },
   "outputs": [],
   "source": []
  }
 ],
 "metadata": {
  "anaconda-cloud": {},
  "kernelspec": {
   "display_name": "Python [default]",
   "language": "python",
   "name": "python3"
  },
  "language_info": {
   "codemirror_mode": {
    "name": "ipython",
    "version": 3
   },
   "file_extension": ".py",
   "mimetype": "text/x-python",
   "name": "python",
   "nbconvert_exporter": "python",
   "pygments_lexer": "ipython3",
   "version": "3.5.2"
  },
  "toc": {
   "colors": {
    "hover_highlight": "#DAA520",
    "running_highlight": "#FF0000",
    "selected_highlight": "#FFD700"
   },
   "moveMenuLeft": true,
   "nav_menu": {
    "height": "64px",
    "width": "252px"
   },
   "navigate_menu": true,
   "number_sections": true,
   "sideBar": true,
   "threshold": 4,
   "toc_cell": false,
   "toc_section_display": "block",
   "toc_window_display": true
  }
 },
 "nbformat": 4,
 "nbformat_minor": 1
}

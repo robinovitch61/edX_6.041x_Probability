{
 "cells": [
  {
   "cell_type": "code",
   "execution_count": 1,
   "metadata": {
    "collapsed": true
   },
   "outputs": [],
   "source": [
    "import pandas as pd\n",
    "import numpy as np\n",
    "import random"
   ]
  },
  {
   "cell_type": "code",
   "execution_count": 2,
   "metadata": {
    "collapsed": true
   },
   "outputs": [],
   "source": [
    "def sim_search(lost_in, look_in):\n",
    "    \"\"\" Simulate a search for dog\"\"\"\n",
    "    N = lost_in.shape[0]\n",
    "    prob_dict = {'a': 0.25, 'b': 0.15}  # prob of found    \n",
    "    res = np.array([False]*N)\n",
    "    for idx, forest in enumerate(lost_in):\n",
    "        if forest == look_in:\n",
    "            r = np.random.rand(1) <= prob_dict[forest]\n",
    "        else:\n",
    "            r = False\n",
    "        res[idx] = r\n",
    "    return res"
   ]
  },
  {
   "cell_type": "code",
   "execution_count": 3,
   "metadata": {
    "collapsed": false
   },
   "outputs": [],
   "source": [
    "N = 50000"
   ]
  },
  {
   "cell_type": "markdown",
   "metadata": {},
   "source": [
    "# a) In which forest should Oscar look on the first day of the search to maximize the probability he finds his dog that day?"
   ]
  },
  {
   "cell_type": "code",
   "execution_count": 4,
   "metadata": {
    "collapsed": true
   },
   "outputs": [],
   "source": [
    "forest = np.random.choice(['a', 'b'], size=N, p=[0.4, 0.6])\n",
    "found_a = sim_search(lost_in=forest, look_in='a')\n",
    "found_b = sim_search(lost_in=forest, look_in='b')\n",
    "\n",
    "df = pd.DataFrame({'Forest': forest, 'Found_a': found_a, 'Found_b': found_b})"
   ]
  },
  {
   "cell_type": "code",
   "execution_count": 5,
   "metadata": {
    "collapsed": false
   },
   "outputs": [
    {
     "name": "stdout",
     "output_type": "stream",
     "text": [
      "Prob of finding dog in A: 0.1004\n",
      "Prob of finding dog in B: 0.08984\n"
     ]
    }
   ],
   "source": [
    "prob_a = np.sum(df.Found_a==True)/N\n",
    "prob_b = np.sum(df.Found_b==True)/N\n",
    "\n",
    "print('Prob of finding dog in A: {0}'.format(prob_a))\n",
    "print('Prob of finding dog in B: {0}'.format(prob_b))"
   ]
  },
  {
   "cell_type": "markdown",
   "metadata": {},
   "source": [
    "** Theory **"
   ]
  },
  {
   "cell_type": "code",
   "execution_count": 6,
   "metadata": {
    "collapsed": false
   },
   "outputs": [
    {
     "name": "stdout",
     "output_type": "stream",
     "text": [
      "(0.1, 0.09)\n"
     ]
    }
   ],
   "source": [
    "theory_a = 0.4*.25 + 0.6*0\n",
    "theory_b = 0.4*0 + 0.6*.15\n",
    "print((theory_a, theory_b))"
   ]
  },
  {
   "cell_type": "markdown",
   "metadata": {},
   "source": [
    "# b) Oscar looked in forest A on the first day but didn't find his dog. What is the probability that the dog is in forest A?"
   ]
  },
  {
   "cell_type": "code",
   "execution_count": 7,
   "metadata": {
    "collapsed": false
   },
   "outputs": [
    {
     "data": {
      "text/plain": [
       "b    0.668764\n",
       "a    0.331236\n",
       "Name: Forest, dtype: float64"
      ]
     },
     "execution_count": 7,
     "metadata": {},
     "output_type": "execute_result"
    }
   ],
   "source": [
    "tmp_df = df[df.Found_a==False]\n",
    "tmp_df['Forest'].value_counts(normalize=True)"
   ]
  },
  {
   "cell_type": "markdown",
   "metadata": {},
   "source": [
    "** Theory **"
   ]
  },
  {
   "cell_type": "code",
   "execution_count": 8,
   "metadata": {
    "collapsed": false
   },
   "outputs": [
    {
     "data": {
      "text/plain": [
       "0.33333333333333337"
      ]
     },
     "execution_count": 8,
     "metadata": {},
     "output_type": "execute_result"
    }
   ],
   "source": [
    "num = .4*.75\n",
    "den = num + .6 * 1.0\n",
    "num/den"
   ]
  },
  {
   "cell_type": "markdown",
   "metadata": {},
   "source": [
    "# c) Oscar flips a fair coin to determine where to look on the first day and finds the dog on the first day. What is the probability that he looked in forest A?"
   ]
  },
  {
   "cell_type": "code",
   "execution_count": 9,
   "metadata": {
    "collapsed": false
   },
   "outputs": [],
   "source": [
    "# make a new dataframe with 50% chance; note long format used\n",
    "half_N = int(N/2)\n",
    "forest = np.random.choice(['a', 'b'], size=half_N, p=[0.4, 0.6])\n",
    "found_a = sim_search(lost_in=forest, look_in='a')\n",
    "found_b = sim_search(lost_in=forest, look_in='b')\n",
    "\n",
    "df_a = pd.DataFrame({'Forest': forest, 'Look':'a', 'Found':found_a})\n",
    "df_b = pd.DataFrame({'Forest': forest, 'Look': 'b', 'Found':found_b})\n",
    "df = pd.concat((df_a, df_b))"
   ]
  },
  {
   "cell_type": "code",
   "execution_count": 10,
   "metadata": {
    "collapsed": false
   },
   "outputs": [
    {
     "data": {
      "text/plain": [
       "a    0.527382\n",
       "b    0.472618\n",
       "Name: Look, dtype: float64"
      ]
     },
     "execution_count": 10,
     "metadata": {},
     "output_type": "execute_result"
    }
   ],
   "source": [
    "df[df.Found==True]['Look'].value_counts(normalize=True)"
   ]
  },
  {
   "cell_type": "markdown",
   "metadata": {},
   "source": [
    "** Theory **"
   ]
  },
  {
   "cell_type": "code",
   "execution_count": 11,
   "metadata": {
    "collapsed": false
   },
   "outputs": [
    {
     "data": {
      "text/plain": [
       "0.5263157894736842"
      ]
     },
     "execution_count": 11,
     "metadata": {},
     "output_type": "execute_result"
    }
   ],
   "source": [
    "num = .4*.5*.25\n",
    "den = num + .6*.5*.15\n",
    "num/den"
   ]
  },
  {
   "cell_type": "markdown",
   "metadata": {},
   "source": [
    "# d) Oscar decides to look in forest A for the first two days. What is the probability that he finds his dog alive for the first time on the second day?"
   ]
  },
  {
   "cell_type": "code",
   "execution_count": 18,
   "metadata": {
    "collapsed": true
   },
   "outputs": [],
   "source": [
    "forest = np.random.choice(['a', 'b'], size=N, p=[.4, .6])\n",
    "\n",
    "# simulate search in forest\n",
    "found_1 = sim_search(lost_in=forest, look_in='a')\n",
    "found_2 = sim_search(lost_in=forest, look_in='a')\n",
    "\n",
    "# simulate dog is alive\n",
    "alive_1 = np.random.rand(N) <= 2/2\n",
    "alive_2 = np.random.rand(N) <= 2/3\n",
    "\n",
    "\n",
    "df = pd.DataFrame({'Forest': forest,\n",
    "                   'F1': found_1, 'F2': found_2, \n",
    "                   'A1': alive_1, 'A2': alive_2})"
   ]
  },
  {
   "cell_type": "code",
   "execution_count": 19,
   "metadata": {
    "collapsed": false
   },
   "outputs": [
    {
     "data": {
      "text/plain": [
       "0.0497"
      ]
     },
     "execution_count": 19,
     "metadata": {},
     "output_type": "execute_result"
    }
   ],
   "source": [
    "fin_df = df[(df.F1==False) & (df.F2==True) & (df.A2==True)]\n",
    "\n",
    "fin_df.shape[0]/N"
   ]
  },
  {
   "cell_type": "markdown",
   "metadata": {},
   "source": [
    "** Theory **"
   ]
  },
  {
   "cell_type": "code",
   "execution_count": 15,
   "metadata": {
    "collapsed": false
   },
   "outputs": [
    {
     "data": {
      "text/plain": [
       "0.05000000000000001"
      ]
     },
     "execution_count": 15,
     "metadata": {},
     "output_type": "execute_result"
    }
   ],
   "source": [
    "0.4*.75 * 0.25 * 2/3"
   ]
  },
  {
   "cell_type": "code",
   "execution_count": null,
   "metadata": {
    "collapsed": false
   },
   "outputs": [],
   "source": [
    "#num = (0.4*.25 * .75) * 2/3\n",
    "my_guess = 0.4 * .75 * 2/3 * .25\n",
    "my_guess"
   ]
  },
  {
   "cell_type": "markdown",
   "metadata": {},
   "source": [
    "# e) Oscar decides to look in forest A for the first two days. Given that he did not find his dog on the first day, find the probability that he does not find his dog dead on the second day."
   ]
  },
  {
   "cell_type": "code",
   "execution_count": null,
   "metadata": {
    "collapsed": false
   },
   "outputs": [],
   "source": [
    "forest = np.random.choice(['a', 'b'], size=N, p=[.4, .6])\n",
    "\n",
    "# simulate search in forest\n",
    "found_1 = sim_search(lost_in=forest, look_in='a')\n",
    "found_2 = sim_search(lost_in=forest, look_in='a')\n",
    "\n",
    "# simulate dog is alive\n",
    "alive_1 = np.random.rand(N) <= 2/2\n",
    "alive_2 = np.random.rand(N) <= 2/3\n",
    "\n",
    "\n",
    "df = pd.DataFrame({'Forest': forest,\n",
    "                   'F1': found_1, 'F2': found_2, \n",
    "                   'A1': alive_1, 'A2': alive_2})\n"
   ]
  },
  {
   "cell_type": "code",
   "execution_count": null,
   "metadata": {
    "collapsed": false
   },
   "outputs": [],
   "source": [
    "given_df = df[(df.F1 == False)]\n",
    "find_dead_df = given_df[(given_df.A2==False) & (given_df.F2==True)]\n",
    "find_dead_df.shape\n",
    "\n",
    "prob_e = 1 - find_dead_df.shape[0]/given_df.shape[0]\n",
    "prob_e"
   ]
  },
  {
   "cell_type": "code",
   "execution_count": null,
   "metadata": {
    "collapsed": false
   },
   "outputs": [],
   "source": [
    "print(given_df.shape[0])\n",
    "print(find_dead_df.shape[0])"
   ]
  },
  {
   "cell_type": "markdown",
   "metadata": {},
   "source": [
    " ** Theoretical **"
   ]
  },
  {
   "cell_type": "code",
   "execution_count": null,
   "metadata": {
    "collapsed": false
   },
   "outputs": [],
   "source": [
    "p_not_f1 = 0.4*.75 + 0.6*1\n",
    "p_f2 = 0.4*.25\n",
    "\n",
    "num = p_not_f1 * 1/3 * p_f2\n",
    "den = p_not_f1\n",
    "ans = 1- num/den\n",
    "\n",
    "print(ans)"
   ]
  },
  {
   "cell_type": "markdown",
   "metadata": {},
   "source": [
    "# f) Oscar finally finds his dog on the fourth day of the search. He looked in forest A for the first 3 days and in forest B on the fourth day. Given this information, what is the probability that he found his dog alive?"
   ]
  },
  {
   "cell_type": "code",
   "execution_count": null,
   "metadata": {
    "collapsed": false
   },
   "outputs": [],
   "source": [
    "forest = np.random.choice(['a', 'b'], size=N, p=[.4, .6])\n",
    "\n",
    "# simulate search in forest\n",
    "found_1 = sim_search(lost_in=forest, look_in='a')\n",
    "found_2 = sim_search(lost_in=forest, look_in='a')\n",
    "found_3 = sim_search(lost_in=forest, look_in='a')\n",
    "found_4 = sim_search(lost_in=forest, look_in='b')\n",
    "\n",
    "# simulate dog is alive\n",
    "alive_1 = np.random.rand(N) <= 2/2\n",
    "alive_2 = np.random.rand(N) <= 2/3\n",
    "alive_3 = np.random.rand(N) <= 2/4\n",
    "alive_4 = np.random.rand(N) <= 2/5\n",
    "\n",
    "df = pd.DataFrame({'Forest': forest,\n",
    "                   'F1': found_1, 'F2': found_2, 'F3': found_3, 'F4': found_4, \n",
    "                   'A1': alive_1, 'A2': alive_2, 'A3': alive_3, 'A4': alive_4})\n"
   ]
  },
  {
   "cell_type": "code",
   "execution_count": null,
   "metadata": {
    "collapsed": false
   },
   "outputs": [],
   "source": [
    "#df.groupby(by='Forest').F4.value_counts(normalize=True)\n",
    "#df.A4.value_counts(normalize=True)"
   ]
  },
  {
   "cell_type": "code",
   "execution_count": null,
   "metadata": {
    "collapsed": false
   },
   "outputs": [],
   "source": [
    "# dog alive on all days\n",
    "df['A1_A4'] = df.A1 & df.A2 & df.A3 & df.A4\n",
    "\n",
    "f4_df = df[(df.F4==True)]\n",
    "f4_a1t04_df = f4_df[f4_df.A1_A4 == True]\n",
    "\n",
    "print(f4_a1t04_df.shape[0]/f4_df.shape[0])\n",
    "print(f4_a1t04_df.shape[0]/N)"
   ]
  },
  {
   "cell_type": "code",
   "execution_count": null,
   "metadata": {
    "collapsed": false
   },
   "outputs": [],
   "source": [
    "my_guess = 1 * 2/3 * 1/2 * 2/5 \n",
    "my_guess"
   ]
  },
  {
   "cell_type": "code",
   "execution_count": null,
   "metadata": {
    "collapsed": false,
    "scrolled": true
   },
   "outputs": [],
   "source": [
    "my_guess2 = 1 * 2/3 * 1/2 * 2/5 * 0.6 * 0.15\n",
    "my_guess2"
   ]
  },
  {
   "cell_type": "code",
   "execution_count": null,
   "metadata": {
    "collapsed": true
   },
   "outputs": [],
   "source": []
  }
 ],
 "metadata": {
  "anaconda-cloud": {},
  "kernelspec": {
   "display_name": "Python [default]",
   "language": "python",
   "name": "python3"
  },
  "toc": {
   "colors": {
    "hover_highlight": "#DAA520",
    "running_highlight": "#FF0000",
    "selected_highlight": "#FFD700"
   },
   "moveMenuLeft": true,
   "nav_menu": {
    "height": "153px",
    "width": "252px"
   },
   "navigate_menu": true,
   "number_sections": false,
   "sideBar": true,
   "threshold": 4,
   "toc_cell": false,
   "toc_section_display": "block",
   "toc_window_display": true
  }
 },
 "nbformat": 4,
 "nbformat_minor": 1
}

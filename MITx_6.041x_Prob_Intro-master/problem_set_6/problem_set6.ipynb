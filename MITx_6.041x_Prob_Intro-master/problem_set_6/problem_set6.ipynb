{
 "cells": [
  {
   "cell_type": "code",
   "execution_count": 2,
   "metadata": {
    "collapsed": true
   },
   "outputs": [],
   "source": [
    "import numpy as np"
   ]
  },
  {
   "cell_type": "markdown",
   "metadata": {},
   "source": [
    "## Problem 5: Covariance for the multinomial"
   ]
  },
  {
   "cell_type": "code",
   "execution_count": 14,
   "metadata": {
    "collapsed": false
   },
   "outputs": [
    {
     "name": "stdout",
     "output_type": "stream",
     "text": [
      "[ 0.1696  0.1684  0.1654  0.1661  0.1641  0.1664]\n"
     ]
    }
   ],
   "source": [
    "N = 10000\n",
    "x = np.random.choice(a=[0, 1, 2, 3, 4, 5], size=N)\n",
    "x_count = np.bincount(x)\n",
    "print(x_count/N)"
   ]
  },
  {
   "cell_type": "markdown",
   "metadata": {},
   "source": [
    "## Problem 7: Sum of a random number of r.v.'s\n"
   ]
  },
  {
   "cell_type": "code",
   "execution_count": 11,
   "metadata": {
    "collapsed": false
   },
   "outputs": [],
   "source": [
    "def simu_coin_toss():\n",
    "    \"\"\"Function to simulate a coin toss\n",
    "    Returns:\n",
    "        number of tails until first head\n",
    "    \"\"\"\n",
    "    num_tails = 0\n",
    "    while True:\n",
    "        head = np.random.uniform(size=1) > 0.5\n",
    "        #res.append(head[0])\n",
    "        if not head: # tails\n",
    "            num_tails += 1\n",
    "        else:  # heads\n",
    "            break\n",
    "    return num_tails\n",
    "\n",
    "def make_Xk(num_tails):\n",
    "    \"\"\" Make a sequence of num_tails+1 uniform random variables\"\"\"\n",
    "    X_k = np.random.uniform(low=0, high=3, size=num_tails+1)\n",
    "    return X_k\n",
    "\n",
    "def make_X(num_tails):\n",
    "    \"\"\" Make r.v. X which is the sum of num_tails+1 uniform r.vs\"\"\"\n",
    "    X_k = make_Xk(num_tails)\n",
    "    X = np.sum(X_k)\n",
    "    return X"
   ]
  },
  {
   "cell_type": "code",
   "execution_count": 25,
   "metadata": {
    "collapsed": false
   },
   "outputs": [
    {
     "name": "stdout",
     "output_type": "stream",
     "text": [
      "2.94869311594\n",
      "5.6490555771\n"
     ]
    }
   ],
   "source": [
    "X_array = []\n",
    "for i_sim in range(10000):\n",
    "    num_tails = simu_coin_toss()\n",
    "    \n",
    "    X_k = make_Xk(num_tails)\n",
    "    X = np.sum(X_k)\n",
    "    #print({\"{0}: {1}: {2}\".format(num_tails, X_k, X)})\n",
    "    X_array.append(X)\n",
    "    \n",
    "print(\"{Mean of r$X$: {0}}\".format(np.mean(X_array))) \n",
    "print(\"{Mean of r$X$: {0}}\".format(np.mean(X_array))) \n"
   ]
  }
 ],
 "metadata": {
  "hide_input": false,
  "kernelspec": {
   "display_name": "Python [default]",
   "language": "python",
   "name": "python3"
  },
  "language_info": {
   "codemirror_mode": {
    "name": "ipython",
    "version": 3
   },
   "file_extension": ".py",
   "mimetype": "text/x-python",
   "name": "python",
   "nbconvert_exporter": "python",
   "pygments_lexer": "ipython3",
   "version": "3.5.2"
  },
  "toc": {
   "colors": {
    "hover_highlight": "#DAA520",
    "running_highlight": "#FF0000",
    "selected_highlight": "#FFD700"
   },
   "moveMenuLeft": true,
   "nav_menu": {
    "height": "47px",
    "width": "252px"
   },
   "navigate_menu": true,
   "number_sections": true,
   "sideBar": true,
   "threshold": 4,
   "toc_cell": false,
   "toc_section_display": "block",
   "toc_window_display": false
  }
 },
 "nbformat": 4,
 "nbformat_minor": 2
}

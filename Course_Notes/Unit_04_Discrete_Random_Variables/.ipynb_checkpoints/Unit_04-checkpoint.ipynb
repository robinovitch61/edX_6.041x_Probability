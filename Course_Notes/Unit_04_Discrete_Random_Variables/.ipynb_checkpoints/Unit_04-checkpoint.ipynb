{
 "cells": [
  {
   "cell_type": "markdown",
   "metadata": {},
   "source": [
    "# 6.041x - Unit 4: Discrete Random Variables\n",
    "### Notes by Leo Robinovitch"
   ]
  },
  {
   "cell_type": "markdown",
   "metadata": {},
   "source": [
    "***\n",
    "## Core Concepts:"
   ]
  },
  {
   "cell_type": "markdown",
   "metadata": {},
   "source": [
    "* **Random Variable:** a numerical quantity whose value is determined by the outcome of the probabilistic experiment (e.g. the weight of a randomly selected person)\n",
    "  * Abstract concept of weight: $\\mathbf{W}$ (random variable)\n",
    "  * Particular weight of given student: $\\mathbf{w}$ (actual number)\n",
    "  * Weight is an object whose value is determined once the outcome of the prob. experiment is known\n",
    "  * Can think of Weight ($W$) as black box/function: $student \\to \\mathbf{W} \\to w$\n",
    "  * Possible for a given probabilistic experiment to have multiple associated random variables (e.g. weight W, height H, etc.)\n",
    "    * Create new random variable based off other random variables, e.g. $BMI = B = \\frac{W}{H^2}$ (still a function of outcomes)\n",
    "  * Random variables are functions mapping $\\Omega$ to real numbers (discrete or continuous values)\n",
    "      * Meaning of $X + Y$: random variable takes value $x + y$, where X takes value x and Y takes value y given some outcome\n",
    "  * Since some of the outcomes of a probabilistic experiment are more likely than others, the associated numerical values of random variables will be more likely than others  \n",
    "      \n",
    "      \n",
    "* **Probability Mass Functions (PMF, Probability Law or Probability Distribution):** description of relative likelihoods for values of random variable\n",
    "  * Define the y-axis of a PMF for random variable X, $p_X(x) = P(X=x) = P(\\{\\omega \\in \\Omega\\ such\\ that\\ X(\\omega)=x\\})$\n",
    "    * $PMF = f(x)$, where for any x, the PMF specifies the probability that the random variable X takes on this particular value x\n",
    "  * Properties:\n",
    "    * $p_X(x) \\geq 0$ (like any probability)\n",
    "    * $\\sum\\limits_{x}p_X(x)=1$\n",
    "<img src=\"l4_1.png\", style=\"height:px;width:=120px;\">  \n",
    "  * To calculate PMF: \n",
    "    * Determine sample space and probability rule (e.g. 2 fair dice rolls $\\to$ 4x4 grid where each outcome has probability $\\frac{1}{16}$)\n",
    "    * Determine random variable (e.g. Z = sum of 2 dice rolls)\n",
    "    * Calculate Z for all outcomes\n",
    "    * Plot $p_Z(z)$ for all z\n",
    "<img src=\"l4_2.png\", style=\"height:px;width:=200px;\">  \n",
    "\n"
   ]
  },
  {
   "cell_type": "markdown",
   "metadata": {},
   "source": [
    "***\n",
    "## Lecture 5, 6, and 7 Exercises:  \n",
    "Currently unavailable in archived course."
   ]
  },
  {
   "cell_type": "markdown",
   "metadata": {},
   "source": [
    "***\n",
    "## Solved Problems:"
   ]
  },
  {
   "cell_type": "markdown",
   "metadata": {},
   "source": [
    "**#1: "
   ]
  },
  {
   "cell_type": "markdown",
   "metadata": {},
   "source": [
    "***\n",
    "## Problem Set 4:  \n",
    "See 2010 Problem Set 4."
   ]
  }
 ],
 "metadata": {
  "kernelspec": {
   "display_name": "Python 3",
   "language": "python",
   "name": "python3"
  },
  "language_info": {
   "codemirror_mode": {
    "name": "ipython",
    "version": 3
   },
   "file_extension": ".py",
   "mimetype": "text/x-python",
   "name": "python",
   "nbconvert_exporter": "python",
   "pygments_lexer": "ipython3",
   "version": "3.6.0"
  }
 },
 "nbformat": 4,
 "nbformat_minor": 2
}

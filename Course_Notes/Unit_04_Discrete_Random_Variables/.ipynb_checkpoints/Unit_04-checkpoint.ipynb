{
 "cells": [
  {
   "cell_type": "code",
   "execution_count": null,
   "metadata": {
    "scrolled": true
   },
   "outputs": [],
   "source": [
    "from IPython.display import Image, display, HTML\n",
    "\n",
    "CSS = \"\"\"\n",
    ".output {\n",
    "    align-items: center;\n",
    "}\n",
    "\"\"\"\n",
    "\n",
    "HTML('<style>{}</style>'.format(CSS))"
   ]
  },
  {
   "cell_type": "markdown",
   "metadata": {},
   "source": [
    "# 6.041x - Unit 4: Discrete Random Variables\n",
    "### Notes by Leo Robinovitch"
   ]
  },
  {
   "cell_type": "markdown",
   "metadata": {},
   "source": [
    "***\n",
    "## Core Concepts:"
   ]
  },
  {
   "cell_type": "markdown",
   "metadata": {},
   "source": [
    "* **Random Variable:** a numerical quantity whose value is determined by the outcome of the probabilistic experiment (e.g. the weight of a randomly selected person)  \n",
    "\n",
    "  * Abstract concept of weight: $\\mathbf{W}$ (random variable)\n",
    "  \n",
    "  * Particular weight of given student: $\\mathbf{w}$ (actual number)  \n",
    "  \n",
    "  * Weight is an object whose value is determined once the outcome of the prob. experiment is known  \n",
    "  \n",
    "  * Can think of Weight ($W$) as black box/function: $student \\to \\mathbf{W(student)} \\to w$  \n",
    "  \n",
    "  * Possible for a given probabilistic experiment to have multiple associated random variables (e.g. weight W, height H, etc.)\n",
    "    * Create new random variable based off other random variables, e.g. $BMI = B = \\frac{W}{H^2}$ (still a function of outcomes)<br><br>\n",
    "    \n",
    "  * Random variables are functions mapping $\\Omega$ to real numbers (discrete or continuous values)  \n",
    "  \n",
    "      * Meaning of $X + Y$: random variable takes value $x + y$, where X takes value x and Y takes value y given some outcome<br><br>\n",
    "      \n",
    "  * Since some of the outcomes of a probabilistic experiment are more likely than others, the associated numerical values of random variables will be more likely than others<br><br>\n",
    "      \n",
    "      \n",
    "* **Probability Mass Functions (PMF, Probability Law or Probability Distribution):** description of relative likelihoods for values of random variable  \n",
    "\n",
    "  * Define the y-axis of a PMF for random variable X, $p_X(x) = P(X=x) = P(\\{\\omega \\in \\Omega\\ such\\ that\\ X(\\omega)=x\\})$  \n",
    "  \n",
    "    * $PMF = f(x)$, where for any x, the PMF specifies the probability that the random variable X takes on this particular value x<br><br>\n",
    "    \n",
    "  * Properties:  \n",
    "  \n",
    "    * $p_X(x) \\geq 0$ (like any probability)<br><br>\n",
    "    \n",
    "    * $\\sum\\limits_{x}p_X(x)=1$"
   ]
  },
  {
   "cell_type": "code",
   "execution_count": null,
   "metadata": {},
   "outputs": [],
   "source": [
    "display(Image(filename='l4_1.png', embed=True, width=120))"
   ]
  },
  {
   "cell_type": "markdown",
   "metadata": {},
   "source": [
    "* To calculate PMF: \n",
    "    * Determine sample space and probability rule (e.g. 2 fair dice rolls $\\to$ 4x4 grid where each outcome has probability $\\frac{1}{16}$\n",
    "    * Determine random variable (e.g. Z = sum of 2 dice rolls)\n",
    "    * Calculate Z for all outcomes\n",
    "    * Plot $p_Z(z)$ for all z"
   ]
  },
  {
   "cell_type": "code",
   "execution_count": null,
   "metadata": {},
   "outputs": [],
   "source": [
    "display(Image(filename='l4_2.png', embed=True, width=200))"
   ]
  },
  {
   "cell_type": "markdown",
   "metadata": {},
   "source": [
    "<br>\n",
    "* **Discrete Random Variable Example 1: Bernoulli with Parameter $\\mathbf{p \\in [0,1]}$**: models trial resulting in success/failure (e.g. coin, yes/no, 0 or 1 etc.)\n",
    "  * X = 1 with probability $p$\n",
    "  * X = 0 with probability $1 - p$\n",
    "  * PMF is simply two bars: at x = 0, height $p$, and at x = 1 height $1-p$<br><br><br>\n",
    "  \n",
    "* **Indicator Variables:** Bernoulli random variables that allow us to translate manipulations of events into manipulations of random variables\n",
    "  * E.g. sample space is split into $A$ and $A^c$.\n",
    "    * For indicator variable $I_A \\to P_{I_A}(1) = P(I_A = 1) = P(A)$<br><br><br>\n",
    "\n",
    "* **Discrete Uniform Random Variables:** "
   ]
  },
  {
   "cell_type": "code",
   "execution_count": null,
   "metadata": {
    "scrolled": true
   },
   "outputs": [],
   "source": [
    "display(Image(filename='l4_3.png', embed=True, width=500))"
   ]
  },
  {
   "cell_type": "markdown",
   "metadata": {},
   "source": [
    "* Here, the outcome of the experiment is the same as the value of the random variable $\\to X(\\omega) = \\omega$\n",
    "* Model of complete igorance, e.g. looking at digital clock and guessing the second value (a = 0, b = 59)\n",
    "<br><br><br>\n",
    "\n",
    "* **Discrete Random Variable Example 2: Binomial with Parameters $\\mathbf{n}$ and $\\mathbf{p \\in [0,1]}$**: models experiment of $n$ trials with $P(success) = p$\n",
    "  * E.g. $n$ tosses of coin with $P(heads) = p$\n",
    "    * Sample space $\\Omega$: set of sequences of H & T of length n $\\to$ HH, HT, TH, TT for n = 2\n",
    "    * Random variable X: number of heads observed\n",
    "    * Models fixed number of identical and independant trials where trial outcomes are success or failure with probabilities $p$ and $1-p$ respectively <br><br>\n",
    "  * Y-Axis of PMF is same as previous binomial formula: $p_X(k) = \\binom{n}{k}p^k(1-p)^{n-k}$ for $k = 0,1,...,n$"
   ]
  },
  {
   "cell_type": "code",
   "execution_count": null,
   "metadata": {
    "scrolled": false
   },
   "outputs": [],
   "source": [
    "display(Image(filename='l4_4.png', embed=True, width=800))"
   ]
  },
  {
   "cell_type": "markdown",
   "metadata": {},
   "source": [
    "<br>\n",
    "* **Discrete Random Variable Example 3: Geometric with Parameter $\\mathbf{0 < p \\leq 1}$**: models experiment infinitely many independent success/failure trials with $P(success) = p$\n",
    "  * Random variable $X$: number of trials until first success\n",
    "  * \n",
    "  * E.g. flip a coin forever:\n",
    "    * Sample space is set of infinite sequences of H & T\n",
    "    * Random variable $X$: number of flips until first heads<br><br>\n",
    "\n",
    "  * If k is number of trials until specified event: $p_X(k) = P(X = k) = P(FFF...FS) = P(F)^{k-1}P(S) = (1-p)^{k-1}p,\\ where\\ k = 1, 2, 3...$\n",
    "  * Used to model waiting times, number of trials until an event, etc.\n",
    "  * Definitely related to survival analysis\n",
    "<br><br><br>\n",
    "\n",
    "* **Expectation:** notes here"
   ]
  },
  {
   "cell_type": "markdown",
   "metadata": {},
   "source": [
    "***\n",
    "## Lecture 5, 6, and 7 Exercises:  \n",
    "Currently unavailable in archived course."
   ]
  },
  {
   "cell_type": "markdown",
   "metadata": {},
   "source": [
    "***\n",
    "## Solved Problems:"
   ]
  },
  {
   "cell_type": "markdown",
   "metadata": {},
   "source": [
    "**#1: "
   ]
  },
  {
   "cell_type": "markdown",
   "metadata": {},
   "source": [
    "***\n",
    "## Problem Set 4:  \n",
    "See 2010 Problem Set 4."
   ]
  },
  {
   "cell_type": "code",
   "execution_count": null,
   "metadata": {},
   "outputs": [],
   "source": [
    "!jupyter nbconvert Unit_04.ipynb --to html --TemplateExporter.exclude_input=True"
   ]
  }
 ],
 "metadata": {
  "kernelspec": {
   "display_name": "Python 3",
   "language": "python",
   "name": "python3"
  },
  "language_info": {
   "codemirror_mode": {
    "name": "ipython",
    "version": 3
   },
   "file_extension": ".py",
   "mimetype": "text/x-python",
   "name": "python",
   "nbconvert_exporter": "python",
   "pygments_lexer": "ipython3",
   "version": "3.6.0"
  }
 },
 "nbformat": 4,
 "nbformat_minor": 2
}

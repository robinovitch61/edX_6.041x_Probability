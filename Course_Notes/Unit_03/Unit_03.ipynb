{
 "cells": [
  {
   "cell_type": "markdown",
   "metadata": {},
   "source": [
    "# 6.041x - Unit 3: Counting\n",
    "### Notes by Leo Robinovitch"
   ]
  },
  {
   "cell_type": "markdown",
   "metadata": {},
   "source": [
    "***\n",
    "## Core Concepts:"
   ]
  },
  {
   "cell_type": "markdown",
   "metadata": {},
   "source": [
    "* **Basic Counting Principal:**\n",
    "  * $r$ stages (e.g. shirts, ties, jackets $\\to r = 3$\n",
    "  * $n_i$ choices at stage $i$\n",
    "    * Number of choices $= n_1 n_2 ... n_r$\n",
    "  * E.g. license plate, 2 letters then 3 digits: $NumPlates = 26*26*10*10*10$\n",
    "    * W/o repitition: $NumPlates = 26*25*10*9*8$  \n",
    "    \n",
    "    \n",
    "  \n",
    "*  **Permutations:** ordered combinations (number of ways of ordering n elements)\n",
    "  * $NumPerms = n(n-1)(n-2)...(1) = n!$\n",
    "    * Note: If choosing k elements of set of n and want permutations: $NumPerms_{subset}=\\frac{n!}{(n-k)!}$\n",
    "  \n",
    "  \n",
    "* **Number of Subsets of {1,...,n}:**\n",
    "  * n in basic counting principal is 2: either put in subset or don't. Number of stages r is number of items in set (r = n)  \n",
    "  \n",
    "    * $NumSubsets = 2^n$\n",
    "      * E.g. $\\{1\\}$ consists of $2^1$ subsets: $\\{1\\}$ and $\\emptyset$  \n",
    "      \n",
    "      \n",
    "*  **Combinations:** given set of $n$ elements, how many combinations of $k \\geq 0$ elements $\\to$ \"how many ways to choose k elements from pool of n\"\n",
    "  * $NumCombinations = \\binom{n}{k} = $ **number of k-element subsets of given n-element set** (number of unordered k-length subsets)\n",
    "    * Note: $\\binom{n}{k}$ is **Binomial Coefficient**\n",
    "    \n",
    "  * Two ways of constructing ordered list of k distinct items:\n",
    "    1. Choose k items one at a time: $n(n-1)(n-2)...(n-(k-1)) = n(n-1)(n-2)...(n-k+1) = \\frac{n!}{(n-k)!}$\n",
    "    2. Choose k items, then order them: $\\binom{n}{k}$ subsets times $k!$ permutations $= \\binom{n}{k}k!$  \n",
    "    \n",
    "  * Set 1. = 2., get $\\mathbf{\\binom{n}{k} = \\frac{n!}{k!(n-k)!}}$\n",
    "    * Valid for $n \\geq 0$ and $0 \\leq k \\leq n$\n",
    "    * Like taking $NumPerms_{subset}$ and dividing by number of permutations of k elements $k!$ because order doesn't matter  \n",
    "      * Note: $\\sum\\limits_{k=0}^{n}\\binom{n}{k} =$ number of ALL subsets $= 2^n$  \n",
    "  \n",
    "  \n",
    "  \n",
    "* **Binomial Probabilities:**\n",
    "  * Given $n \\geq 1$ independant events, where $P(+) = p$ and as such, $P(-) = 1-p$\n",
    "    * e.g.: $P(+--+++) = P(+)P(-)P(-)P(+)P(+)P(+)$ because of independance. Therefore, $P(+--++) = p^4(1-p)^2$\n",
    "    * So generally for a given sequence of +'s and -'s with **k +'s of n total events**, $P(sequence) = p^k(1-p)^{n-k}$\n",
    "    * As such, probability of **k +'s**: $P(k_{+'s}) = p^k(1-p)^{n-k} *$ total number of sequences with k +'s\n",
    "      * Total number of sequences with k +'s: $\\binom{n}{k} \\to$ of n events, choose k of them that are +'s\n",
    "        * Best way to think of this: n slots corresponding to + or - outcomes. Decide k of these slots are +'s. Then find all the ways of choosing k slots, then saying \"these slots are +'s, the rest are -'s\". This is the same as $\\binom{n}{k}$\n",
    "    * Putting it together, $\\mathbf{P(k_{+'s}) = \\binom{n}{k}p^k(1-p)^{n-k}}$  \n",
    "    \n",
    "    \n",
    "    \n",
    "* **Partitions:** number of ways a given set can be partitioned into subsets of prescribed sizes\n",
    "  * Have $n \\geq 1$ distinct items, $r \\geq 1$ subsets (e.g. people) $\\to$ give $n_i$ items to subset (e.g. person) $i$\n",
    "    * $n_1,...,n_r$ nonnegative integers, with $n_1 + ... + n_r = n$\n",
    "  * Let $C$ is number of ways items can be divided into subsets of prescribed sizes\n",
    "    * Now, ordering n items can be done two ways:\n",
    "      1. Order n items directly: $n!$\n",
    "      2. Dish out n items into subsets ($C$ ways to do this), then get each subset to order their items: $C*n_1!*n_2!*...*n_r!$\n",
    "    * These are equal (1. = 2.), so $\\mathbf{C = \\frac{n!}{n_1!n_2!...n_r!}}$\n",
    "  * **Multinomial coefficient** C generalizes binomial coefficient (Binomial Coefficient special case where $n_1 = k$, $n_2 = n-k$, and $r=2$)\n",
    "  * E.g.: Dealing cards to 4 players: $C = \\frac{52!}{13!13!13!13!}$ (number of ways to partition)\n",
    "    "
   ]
  },
  {
   "cell_type": "markdown",
   "metadata": {},
   "source": [
    "***\n",
    "## Lecture 4 Exercises:  \n",
    "Unfortunately, edX made in-lecture exercises unavailable 3 weeks after archiving the course."
   ]
  },
  {
   "cell_type": "markdown",
   "metadata": {},
   "source": [
    "***\n",
    "## Solved Problems:"
   ]
  },
  {
   "cell_type": "markdown",
   "metadata": {},
   "source": [
    "**#1: **  \n",
    "<img src=\"sp2_7.png\", style=\"height:px;width:=1000px;\">  \n",
    "\n",
    "\n",
    "\n",
    "\n"
   ]
  },
  {
   "cell_type": "markdown",
   "metadata": {},
   "source": [
    "***\n",
    "## Problem Set 3:  \n",
    "Unfortunately, edX made problem sets unavailable 3 weeks after archiving the course."
   ]
  }
 ],
 "metadata": {
  "kernelspec": {
   "display_name": "Python 3",
   "language": "python",
   "name": "python3"
  },
  "language_info": {
   "codemirror_mode": {
    "name": "ipython",
    "version": 3
   },
   "file_extension": ".py",
   "mimetype": "text/x-python",
   "name": "python",
   "nbconvert_exporter": "python",
   "pygments_lexer": "ipython3",
   "version": "3.6.0"
  }
 },
 "nbformat": 4,
 "nbformat_minor": 2
}

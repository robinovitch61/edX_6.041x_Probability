{
 "cells": [
  {
   "cell_type": "markdown",
   "metadata": {},
   "source": [
    "# 6.041x - Unit 3: Counting\n",
    "### Notes by Leo Robinovitch"
   ]
  },
  {
   "cell_type": "markdown",
   "metadata": {},
   "source": [
    "***\n",
    "## Core Concepts:"
   ]
  },
  {
   "cell_type": "markdown",
   "metadata": {},
   "source": [
    "* **Basic Counting Principal:**\n",
    "  * $r$ stages (e.g. shirts, ties, jackets $\\to r = 3$\n",
    "  * $n_i$ choices at stage $i$\n",
    "    * Number of choices $= n_1 n_2 ... n_r$\n",
    "  * E.g. license plate, 2 letters then 3 digits: $NumPlates = 26*26*10*10*10$\n",
    "    * W/o repitition: $NumPlates = 26*25*10*9*8$  \n",
    "    \n",
    "    \n",
    "  \n",
    "*  **Permutations:** ordered combinations (number of ways of ordering n elements)\n",
    "  * $NumPerms = n(n-1)(n-2)...(1) = n!$\n",
    "    * Note: If choosing k elements of set of n and want permutations: $NumPerms_{subset}=\\frac{n!}{(n-k)!}$\n",
    "  \n",
    "  \n",
    "* **Number of Subsets of {1,...,n}:**\n",
    "  * n in basic counting principal is 2: either put in subset or don't. Number of stages r is number of items in set (r = n)  \n",
    "  \n",
    "    * $NumSubsets = 2^n$\n",
    "      * E.g. $\\{1\\}$ consists of $2^1$ subsets: $\\{1\\}$ and $\\emptyset$  \n",
    "      \n",
    "      \n",
    "*  **Combinations:** given set of $n$ elements, how many combinations of $k \\geq 0$ elements $\\to$ \"how many ways to choose k elements from pool of n\"\n",
    "  * $NumCombinations = \\binom{n}{k} = $ **number of k-element subsets of given n-element set** (number of unordered k-length subsets)\n",
    "    * Note: $\\binom{n}{k}$ is **Binomial Coefficient**\n",
    "    \n",
    "  * Two ways of constructing ordered list of k distinct items:\n",
    "    1. Choose k items one at a time: $n(n-1)(n-2)...(n-(k-1)) = n(n-1)(n-2)...(n-k+1) = \\frac{n!}{(n-k)!}$\n",
    "    2. Choose k items, then order them: $\\binom{n}{k}$ subsets times $k!$ permutations $= \\binom{n}{k}k!$  \n",
    "    \n",
    "  * Set 1. = 2., get $\\mathbf{\\binom{n}{k} = \\frac{n!}{k!(n-k)!}}$\n",
    "    * Valid for $n \\geq 0$ and $0 \\leq k \\leq n$\n",
    "    * Like taking $NumPerms_{subset}$ and dividing by number of permutations of k elements $k!$ because order doesn't matter  \n",
    "      * Note: $\\sum\\limits_{k=0}^{n}\\binom{n}{k} =$ number of ALL subsets $= 2^n$  \n",
    "  \n",
    "  \n",
    "  \n",
    "* **Binomial Probabilities:**\n",
    "  * Given $n \\geq 1$ independant events, where $P(+) = p$ and as such, $P(-) = 1-p$\n",
    "    * e.g.: $P(+--+++) = P(+)P(-)P(-)P(+)P(+)P(+)$ because of independance. Therefore, $P(+--++) = p^4(1-p)^2$\n",
    "    * So generally for a given sequence of +'s and -'s with **k +'s of n total events**, $P(sequence) = p^k(1-p)^{n-k}$\n",
    "    * As such, probability of **k +'s**: $P(k_{+'s}) = p^k(1-p)^{n-k} *$ total number of sequences with k +'s\n",
    "      * Total number of sequences with k +'s: $\\binom{n}{k} \\to$ of n events, choose k of them that are +'s\n",
    "        * Best way to think of this: n slots corresponding to + or - outcomes. Decide k of these slots are +'s. Then find all the ways of choosing k slots, then saying \"these slots are +'s, the rest are -'s\". This is the same as $\\binom{n}{k}$\n",
    "    * Putting it together, $\\mathbf{P(k_{+'s}) = \\binom{n}{k}p^k(1-p)^{n-k}}$  \n",
    "    \n",
    "    \n",
    "    \n",
    "* **Partitions:** number of ways a given set can be partitioned into subsets of prescribed sizes\n",
    "  * Have $n \\geq 1$ distinct items, $r \\geq 1$ subsets (e.g. people) $\\to$ give $n_i$ items to subset (e.g. person) $i$\n",
    "    * $n_1,...,n_r$ nonnegative integers, with $n_1 + ... + n_r = n$\n",
    "  * Let $C$ is number of ways items can be divided into subsets of prescribed sizes\n",
    "    * Now, ordering n items can be done two ways:\n",
    "      1. Order n items directly: $n!$\n",
    "      2. Dish out n items into subsets ($C$ ways to do this), then get each subset to order their items: $C*n_1!*n_2!*...*n_r!$\n",
    "    * These are equal (1. = 2.), so $\\mathbf{C = \\frac{n!}{n_1!n_2!...n_r!}}$\n",
    "  * **Multinomial coefficient** C generalizes binomial coefficient\n",
    "    * Note: Binomial Coefficient special case where $n_1 = k$, $n_2 = n-k$, and $r=2$\n",
    "  * E.g.: Dealing cards to 4 players: $C = \\frac{52!}{13!13!13!13!}$ (number of ways to partition)\n",
    "    "
   ]
  },
  {
   "cell_type": "markdown",
   "metadata": {},
   "source": [
    "***\n",
    "## Lecture 4 Exercises:  \n",
    "Unavailable in archived course."
   ]
  },
  {
   "cell_type": "markdown",
   "metadata": {},
   "source": [
    "***\n",
    "## Solved Problems:"
   ]
  },
  {
   "cell_type": "markdown",
   "metadata": {},
   "source": [
    "**#1: The birthday problem. Consider n people who are attending a party. We assume that every person has an equal probability of being born on any day during the year, independently of everyone else, and ignore the additional complication presented by leap years (i.e., nobody is born on February 29). What is the probability that each person has a distinct birthday?**  \n",
    "\n",
    "* Define $\\Omega =$ all possible birthday combos:\n",
    "  * Size of $\\Omega = |\\Omega| = 365^n$  \n",
    "  \n",
    "  \n",
    "* Number of combinations where no 2 people have same birthday$= |n| = 365*364*363*...*(365 - n + 1)$  \n",
    "\n",
    "\n",
    "* As such, using Discrete Uniform Law: $P(no2same) = P(n) = \\frac{|n|}{|\\Omega|} = \\frac{365*364*363*...*(365 - n + 1)}{365^n}$\n",
    "<img src=\"sp3_1.png\", style=\"height:px;width:=600px;\">  \n",
    "\n",
    "\n",
    "**#2: Rooks on a chessboard. Eight rooks are placed in distinct squares of an 8×8 chessboard, with all possible placements being equally likely. Find the probability that all the rooks are safe from one another, i.e., that there is no row or column with more than one rook.**  \n",
    "\n",
    "* Again using Discrete Uniform Law: $P(safe) = \\frac{Number\\ Safe\\ Arrangements}{Total\\ Arrangements}$  \n",
    "\n",
    "\n",
    "* Total Arrangements: $Total\\ Arrangements = 64 * 63 * 62 * 61*...*57 = \\frac{64!}{56!}$ (sequentially place each rook using counting principal)  \n",
    "\n",
    "\n",
    "* Similar logic for Safe Arrangements: $Number\\ Safe\\ Arrangements = 64 * (63 - 7 - 7) * (62 - 6 - 6)*...*(61 - 1 - 1) = 8^2 * 7^2 * 6^2*...*1^2$  \n",
    "\n",
    "\n",
    "* Plug n chug baby!  \n",
    "\n",
    "\n",
    "**#3: Hypergeometric probabilities. An urn contains n balls, out of which exactly m are red. We select k of the balls at random, without replacement (i.e., selected balls are not put back into the urn before the next selection). What is the probability that i of the selected balls are red?**  \n",
    "\n",
    "* Box with m red balls and (n - m) black balls. Draw k balls $\\to$ what is $P(i\\ red\\ balls) = P_r$?\n",
    "  * Drawing subset of n balls within which i are red, (k - i) are black  \n",
    "  \n",
    "  \n",
    "* All ways to draw k balls out of n balls: $|\\Omega| = \\binom{n}{k}$  \n",
    "\n",
    "\n",
    "* Number of ways to get i red balls after drawing k balls: $C = a*b$  \n",
    "  * a: # ways to get i out of m red balls $\\to a = \\binom{m}{i}$ \n",
    "  * b: # ways to get (k - i) our of (n - m) black balls $\\to b = \\binom{n-m}{k-i}$  \n",
    "  \n",
    "\n",
    "* Discrete Uniform Law: $P_r = \\frac{C}{|\\Omega|} = \\frac{\\binom{m}{i}\\binom{n-m}{k-i}}{\\binom{n}{k}}$  \n",
    "\n",
    "\n",
    "* Example: P(3 Aces) in 7 hand draw: n = 52 cards, m = 4 aces, k = 7 cards drawn, i = 3 aces  \n",
    "\n",
    "\n",
    "**#4: Multinomial probabilities. An urn contains balls of r different colors. We draw n balls, with different draws being independent. For any given draw, there is a probability pi, i=1,…,r, of getting a ball of color i. Here, the pi's are nonnegative numbers that sum to 1.**\n",
    "\n",
    "  * **(For such independence to be possible, you may think of an urn that has infinitely many balls, so that removing one does not change the probabilities pi, or you can think about drawing “with replacement”: the chosen ball is put back into the urn before the next draw.)**\n",
    "\n",
    "**Let n1,…,nr be nonnegative integers that sum to n. What is the probability that we obtain exactly ni balls of color i, for each i=1,…,r?**  \n",
    "\n",
    "* Find $P(n_1\\ balls\\ of\\ color\\ 1,\\ n_2\\ balls\\ of\\ color\\ 2,...,\\ n_r\\ balls\\ of\\ color\\ r)$  \n",
    "  * Can also be general, e.g. **for r = 2**, colors are \"heads\" and \"tails\". What is probability of $n_1$ (or k) heads and $n_2$ (or n - k) tails? Here, $P(1=Heads) = p_1 = p$, and $P(r=Tails) = p_2 = 1-p$\n",
    "    * Here, binomial probabilities: $P(n_1\\ heads,\\ n_2\\ tails) = \\binom{n}{k}p^k(1-p)^{n-k}$, and translating to multinomial probability: $P(n_1\\ heads,\\ n_2\\ tails) = \\frac{n!}{n_1!n_2!}p_1^{n_1}p_2^{n_2}$ (all this **for r = 2**)  \n",
    "    \n",
    "    \n",
    "* General case (any r): example outcome with r = 3, n = 7: *1131221* $\\to$ has \"type (4,2,1): $P(1131221) = p_1^4p_2^2p_3^1$ using independance  \n",
    "  * For outcome with \"type\" ($n_1, n_2,..., n_r$), $P = p_1^{n_1}p_2^{n_2}...p_r^{n_r}$\n",
    "  * Multiply this P by number of possible sequences of this type\n",
    "  \n",
    "  \n",
    "* Note that a sequence of type ($n_1, n_2,..., n_r$) is a partition of {1,...,n} into subsets of sizes $n_1, n_2,..., n_r$\n",
    "  * Knowing what we do about partitions, we seek C as number of possible sequences of a given type: $C = \\frac{n!}{n_1!n_2!...n_r!}$\n",
    "  \n",
    "  \n",
    "* As such, $P(type\\ (n_1, n_2,..., n_r)) = C*P(given\\ sequence) = \\mathbf{\\frac{n!}{n_1!n_2!...n_r!}p_1^{n_1}p_2^{n_2}...p_r^{n_r}}$  \n",
    "  * Note that this breaks down to r = 2 case above\n",
    "    \n"
   ]
  },
  {
   "cell_type": "markdown",
   "metadata": {},
   "source": [
    "***\n",
    "## Problem Set 3:  \n",
    "See 2010 Problem Set 3."
   ]
  }
 ],
 "metadata": {
  "kernelspec": {
   "display_name": "Python 3",
   "language": "python",
   "name": "python3"
  },
  "language_info": {
   "codemirror_mode": {
    "name": "ipython",
    "version": 3
   },
   "file_extension": ".py",
   "mimetype": "text/x-python",
   "name": "python",
   "nbconvert_exporter": "python",
   "pygments_lexer": "ipython3",
   "version": "3.6.0"
  }
 },
 "nbformat": 4,
 "nbformat_minor": 2
}

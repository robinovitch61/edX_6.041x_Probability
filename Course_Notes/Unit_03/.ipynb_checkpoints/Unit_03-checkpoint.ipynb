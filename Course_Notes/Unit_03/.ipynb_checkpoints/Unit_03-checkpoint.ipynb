{
 "cells": [
  {
   "cell_type": "markdown",
   "metadata": {},
   "source": [
    "# 6.041x - Unit 3: Counting\n",
    "### Notes by Leo Robinovitch"
   ]
  },
  {
   "cell_type": "markdown",
   "metadata": {},
   "source": [
    "***\n",
    "## Core Concepts:"
   ]
  },
  {
   "cell_type": "markdown",
   "metadata": {},
   "source": [
    "* **Basic Counting Principal:**\n",
    "  * $r$ stages (e.g. shirts, ties, jackets $\\to r = 3$\n",
    "  * $n_i$ choices at stage $i$\n",
    "    * Number of choices $= n_1 n_2 ... n_r$\n",
    "  * E.g. license plate, 2 letters then 3 digits: $NumPlates = 26*26*10*10*10$\n",
    "    * W/o repitition: $NumPlates = 26*25*10*9*8$  \n",
    "    \n",
    "    \n",
    "  \n",
    "*  **Permutations:** ordered combinations (number of ways of ordering n elements)\n",
    "  * $NumPerms = n(n-1)(n-2)...(1) = n!$  \n",
    "  \n",
    "  \n",
    "* **Number of Subsets of {1,...,n}:**\n",
    "  * n in basic counting principal is 2: either put in subset or don't. Number of stages r is number of items in set (r = n)  \n",
    "  \n",
    "    * $NumSubsets = 2^n$\n",
    "      * E.g. $\\{1\\}$ consists of $2^1$ subsets: $\\{1\\}$ and $\\emptyset$  \n",
    "      \n",
    "      \n",
    "*  **Combinations:** given set of $n$ elements, how many combinations of $k \\geq 0$ elements\n",
    "  * $NumCombinations = \\binom{n}{k} = $ **number of k-element subsets of given n-element set** (number of unordered k-length subsets)\n",
    "    * Note: n and k are *binomial coefficients*  \n",
    "    \n",
    "  * Two ways of constructing ordered list of k distinct items:\n",
    "    1. Choose k items one at a time: $n(n-1)(n-2)...(n-(k-1)) = n(n-1)(n-2)...(n-k+1) = \\frac{n!}{(n-k)!}$\n",
    "    2. Choose k items, then order them: $\\binom{n}{k}$ subsets times $k!$ permutations $= \\binom{n}{k}k!$  \n",
    "    \n",
    "  * Set 1. = 2., get $\\mathbf{\\binom{n}{k} = \\frac{n!}{k!(n-k)!}}$\n",
    "    * Valid for $n \\geq 0$ and $0 \\leq k \\leq n$  \n",
    "    \n",
    "  * Note: $\\sum\\limits_{k=0}^{n}\\binom{n}{k} =$ number of ALL subsets $= 2^n$  \n",
    "  \n",
    "  \n",
    "  \n",
    "* **Binomial Probabilities:**\n",
    "  * TBD"
   ]
  },
  {
   "cell_type": "markdown",
   "metadata": {},
   "source": [
    "***\n",
    "## Lecture 4 Exercises:  \n",
    "Unfortunately, edX made in-lecture exercises unavailable 3 weeks after archiving the course."
   ]
  },
  {
   "cell_type": "markdown",
   "metadata": {},
   "source": [
    "***\n",
    "## Solved Problems:"
   ]
  },
  {
   "cell_type": "markdown",
   "metadata": {},
   "source": [
    "**#1: **  \n",
    "<img src=\"sp2_7.png\", style=\"height:px;width:=1000px;\">  \n",
    "\n",
    "\n",
    "\n",
    "\n"
   ]
  },
  {
   "cell_type": "markdown",
   "metadata": {},
   "source": [
    "***\n",
    "## Problem Set 3:  \n",
    "Unfortunately, edX made problem sets unavailable 3 weeks after archiving the course."
   ]
  }
 ],
 "metadata": {
  "kernelspec": {
   "display_name": "Python 3",
   "language": "python",
   "name": "python3"
  },
  "language_info": {
   "codemirror_mode": {
    "name": "ipython",
    "version": 3
   },
   "file_extension": ".py",
   "mimetype": "text/x-python",
   "name": "python",
   "nbconvert_exporter": "python",
   "pygments_lexer": "ipython3",
   "version": "3.6.0"
  }
 },
 "nbformat": 4,
 "nbformat_minor": 2
}

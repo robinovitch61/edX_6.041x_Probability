{
 "cells": [
  {
   "cell_type": "code",
   "execution_count": 1,
   "metadata": {
    "scrolled": true
   },
   "outputs": [
    {
     "data": {
      "text/html": [
       "<style>\n",
       ".output {\n",
       "    align-items: center;\n",
       "}\n",
       "\n",
       ".text_cell_render { /* Customize text cells */\n",
       "line-height:2.5em;\n",
       "}\n",
       "</style>"
      ],
      "text/plain": [
       "<IPython.core.display.HTML object>"
      ]
     },
     "execution_count": 1,
     "metadata": {},
     "output_type": "execute_result"
    }
   ],
   "source": [
    "from IPython.display import Image, display, HTML\n",
    "\n",
    "CSS = \"\"\"\n",
    ".output {\n",
    "    align-items: center;\n",
    "}\n",
    "\n",
    ".text_cell_render { /* Customize text cells */\n",
    "line-height:2.5em;\n",
    "}\n",
    "\"\"\"\n",
    "\n",
    "HTML('<style>{}</style>'.format(CSS))"
   ]
  },
  {
   "cell_type": "markdown",
   "metadata": {},
   "source": [
    "# 6.041x - Unit 5: Continuous Random Variables\n",
    "### Notes by Leo Robinovitch"
   ]
  },
  {
   "cell_type": "markdown",
   "metadata": {},
   "source": [
    "***\n",
    "## Core Concepts:"
   ]
  },
  {
   "cell_type": "markdown",
   "metadata": {},
   "source": [
    "**Probability Density Functions (PDFs):** replace PMFs (Probability Mass Functions) from discrete random variables\n",
    "* Discrete Random Variables have PMFs $p_X(x)$ where the following holds true\n",
    "  * $P(a \\leq x \\leq b) = \\sum\\limits_{x:a \\leq x \\leq b}p_X(x)$\n",
    "  * $p_X(x) \\geq 0$\n",
    "  * $\\sum\\limits_{x}p_X(x) = 1$\n",
    "  <br><br>\n",
    "  \n",
    "* A random variable is **continuous** if the following holds true for its PDF $f_X(x)$:\n",
    "  * $P(a \\leq x \\leq b) = \\int_{a}^{b}f_X(x)dx$\n",
    "  * $f_X(x) \\geq 0$\n",
    "  * $\\int_{-\\infty}^{\\infty}f_X(x)dx = 1$\n",
    "  <br><br>\n",
    "  \n",
    "* Units of PDF are probability per unit length:\n",
    "  * $P(a \\leq x \\leq x + \\delta) \\approx f_X(a) \\bullet \\delta \\to$ using rectangular approximation\n",
    "  <br><br>\n",
    "* Also notable from above: $P(x = a) =  0 \\to$ any particular point has zero probability\n",
    "* PDFs do not have to be continuous functions (they can have discontinuities)\n",
    "* Finally, $P(a \\leq x \\leq b) = P(a < x < b) \\to$ endpoints don't matter\n",
    "<br><br>\n",
    "\n",
    "\n",
    "**Continuous Uniform Random Variable:** rather than integers between a and b being possible (discrete case), any real number between a and b is possible\n"
   ]
  },
  {
   "cell_type": "code",
   "execution_count": 2,
   "metadata": {
    "scrolled": true
   },
   "outputs": [
    {
     "data": {
      "image/png": "[encoded data removed]",
      "text/plain": [
       "<IPython.core.display.Image object>"
      ]
     },
     "metadata": {
      "image/png": {
       "width": 300
      }
     },
     "output_type": "display_data"
    }
   ],
   "source": [
    "display(Image(filename='l8_1.png', embed=True, width=300))"
   ]
  },
  {
   "cell_type": "markdown",
   "metadata": {},
   "source": [
    "** Expectation of Continuous Random Variables:** average in a large number of independent repetitions of probabilistic experiment\n",
    "$$E[X] = \\int_{-\\infty}^{\\infty}xf_X(x)dx$$\n",
    "* Holds true as long as $\\int_{-\\infty}^{\\infty}|x|f_X(x)dx < \\infty$\n",
    "* Still true that expectation/average is \"center of gravity\" of PDF\n",
    "* If $X \\geq 0$, then $E[X] \\geq 0$\n",
    "* If $a \\leq X \\leq b$, then $a \\leq E[X] \\leq b$\n",
    "<br><br>\n",
    "\n",
    "\n",
    "**Expected Value Rule for Uniform Random Variables:**\n",
    "$$E[g(X)] = \\int_{-\\infty}^{\\infty}g(x)f_X(x)dx$$\n",
    "<br><br>\n",
    "\n",
    "\n",
    "**Linearity of Expectations:**\n",
    "$$E[aX + b] = aE[X] + b$$\n",
    "* Derivation from applying Expected Value Rule to $g(X) = aX + b$ and separating terms (same as with discrete)\n",
    "<br><br>\n",
    "\n",
    "\n",
    "**Variance of Uniform Random Variables:**\n",
    "* Recall $var(X) = E[(X - \\mu)^2]$ where $\\mu = E[X]$\n",
    "* Using Expected Value Rule:\n",
    "$$var(X) = \\int_{-\\infty}^{\\infty}(x - \\mu)^2f_X(x)dx$$\n",
    "<br><br>\n",
    "\n",
    "\n",
    "**Standard Deviation of Uniform Random Variables:**\n",
    "$$\\sigma_X = \\sqrt{var(X)}$$\n",
    "<br><br>\n",
    "\n",
    "\n",
    "**Variance Rules:**\n",
    "* Still true that $var(aX + b) = a^2var(X)$\n",
    "* Useful formula still holds: $var(X) = E[X^2] - (E[X])^2$\n",
    "<br><br>\n",
    "\n",
    "\n",
    "**Mean and Variance of Uniform Continuous Random Variable:**\n",
    "* $E[X] = \\int_{-\\infty}^{\\infty}xf_X(x)dx = \\int_{a}^{b}x\\frac{1}{b-a}dx = \\frac{b - a}{2} \\to$ same as discrete and intuitive b/c uniform PDF is symmetrical about expectation\n",
    "* Variance calculation:\n",
    "  * $E[X^2] = \\int_{a}^{b}x^2\\frac{1}{b-a}dx$\n",
    "  * $var(X) = E[X^2] - (E[X])^2 = \\frac{(b - a)^2}{12} \\to$ similar but not same as discrete\n",
    "  <br><br>\n",
    "* As such, $\\sigma = \\frac{b - a}{\\sqrt{12}}$ for uniform PDF"
   ]
  },
  {
   "cell_type": "markdown",
   "metadata": {},
   "source": [
    "***\n",
    "## Lecture 8, 9, and 10 Exercises:  \n",
    "Currently unavailable in archived course."
   ]
  },
  {
   "cell_type": "markdown",
   "metadata": {},
   "source": [
    "***\n",
    "## Solved Problems:"
   ]
  },
  {
   "cell_type": "markdown",
   "metadata": {},
   "source": [
    "**#1: Question 1:**"
   ]
  },
  {
   "cell_type": "markdown",
   "metadata": {},
   "source": [
    "***\n",
    "## Problem Set 5:  \n",
    "See 2010 Problem Set 5."
   ]
  },
  {
   "cell_type": "code",
   "execution_count": 5,
   "metadata": {},
   "outputs": [
    {
     "name": "stdout",
     "output_type": "stream",
     "text": [
      "[NbConvertApp] Converting notebook Unit_05.ipynb to html\n",
      "[NbConvertApp] Writing 274467 bytes to Unit_05.html\n"
     ]
    }
   ],
   "source": [
    "!jupyter nbconvert Unit_05.ipynb --to html --TemplateExporter.exclude_input=True"
   ]
  }
 ],
 "metadata": {
  "kernelspec": {
   "display_name": "Python 3",
   "language": "python",
   "name": "python3"
  },
  "language_info": {
   "codemirror_mode": {
    "name": "ipython",
    "version": 3
   },
   "file_extension": ".py",
   "mimetype": "text/x-python",
   "name": "python",
   "nbconvert_exporter": "python",
   "pygments_lexer": "ipython3",
   "version": "3.6.0"
  }
 },
 "nbformat": 4,
 "nbformat_minor": 2
}

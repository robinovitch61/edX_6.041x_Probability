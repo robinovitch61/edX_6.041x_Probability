{
 "cells": [
  {
   "cell_type": "markdown",
   "metadata": {},
   "source": [
    "## Problem 5: Coin tosses revisited"
   ]
  },
  {
   "cell_type": "code",
   "execution_count": 1,
   "metadata": {
    "collapsed": true
   },
   "outputs": [],
   "source": [
    "import numpy as np"
   ]
  },
  {
   "cell_type": "code",
   "execution_count": 5,
   "metadata": {
    "collapsed": true
   },
   "outputs": [],
   "source": [
    "def num_toss_until_HT():\n",
    "    num_toss = 1\n",
    "    num_first_time = 0\n",
    "    num_second_time = 0\n",
    "    prev_res = np.random.choice(['H', 'T'], size=1)\n",
    "    first_succ = False\n",
    "    second_succ = False\n",
    "    while (not first_succ) or (not second_succ):\n",
    "        cur_res = np.random.choice(['H', 'T'], size=1)\n",
    "        num_toss += 1\n",
    "        if cur_res == 'H' and prev_res == 'H':\n",
    "            if not first_succ and not second_succ:\n",
    "                num_first_time = num_toss\n",
    "                first_succ = True\n",
    "            else:\n",
    "                num_second_time = num_toss\n",
    "                second_succ = True\n",
    "        prev_res = cur_res\n",
    "        \n",
    "    return num_first_time, num_second_time-num_first_time"
   ]
  },
  {
   "cell_type": "code",
   "execution_count": 6,
   "metadata": {
    "collapsed": false
   },
   "outputs": [
    {
     "data": {
      "text/plain": [
       "(4, 1)"
      ]
     },
     "execution_count": 6,
     "metadata": {},
     "output_type": "execute_result"
    }
   ],
   "source": [
    "num_toss_until_HT()"
   ]
  },
  {
   "cell_type": "code",
   "execution_count": 7,
   "metadata": {
    "collapsed": false
   },
   "outputs": [
    {
     "name": "stdout",
     "output_type": "stream",
     "text": [
      "6.0554\n",
      "3.9588\n"
     ]
    }
   ],
   "source": [
    "nSims = 10000\n",
    "num_first_list = []\n",
    "num_second_list = []\n",
    "for idx in range(nSims):\n",
    "    tmp = num_toss_until_HT()\n",
    "    num_first_list.append(tmp[0])\n",
    "    num_second_list.append(tmp[1])\n",
    "    \n",
    "print(np.mean(num_first_list))\n",
    "print(np.mean(num_second_list))"
   ]
  },
  {
   "cell_type": "markdown",
   "metadata": {
    "collapsed": true
   },
   "source": [
    "# Problem 4: A simple Markov chain\n"
   ]
  },
  {
   "cell_type": "code",
   "execution_count": 44,
   "metadata": {
    "collapsed": true
   },
   "outputs": [],
   "source": [
    "def gen_next_state(cur_state):\n",
    "    if cur_state == 1:\n",
    "        next_state = np.random.choice([1, 2], p=[0.6, 0.4])\n",
    "    elif cur_state == 2:\n",
    "        next_state = np.random.choice([1, 2, 3], p=[0.2, 0.5, 0.3])\n",
    "    elif cur_state == 3:\n",
    "        next_state = np.random.choice([2, 3], p=[0.1, 0.9])\n",
    "    return next_state\n",
    "        \n",
    "\n",
    "def gen_seq(n_samples = 1000):\n",
    "    out_seq = []\n",
    "    cur_state = np.random.choice([1, 2, 3])\n",
    "    count_dict = {}\n",
    "    # out_seq.append(first_state)\n",
    "    for idx in range(1, n_samples):\n",
    "        # cur_state = out_seq[idx-1]\n",
    "        next_state = gen_next_state(cur_state)\n",
    "        #out_seq.append(next_state)\n",
    "        count_dict[next_state] = count_dict.get(next_state, 0) + 1\n",
    "        cur_state = next_state\n",
    "    return count_dict\n"
   ]
  },
  {
   "cell_type": "code",
   "execution_count": 85,
   "metadata": {
    "collapsed": false
   },
   "outputs": [
    {
     "name": "stdout",
     "output_type": "stream",
     "text": [
      "4346/10000= 0.43\n"
     ]
    }
   ],
   "source": [
    "# P(X2=2|X0=1)\n",
    "\n",
    "def gen_2samples():\n",
    "    cur_state = 1\n",
    "    count_right = 0\n",
    "    count_right_S1 = 0\n",
    "    \n",
    "    for idx in range(2):\n",
    "        next_state = gen_next_state(cur_state)\n",
    "        cur_state = next_state\n",
    "    if cur_state == 2:\n",
    "        return True\n",
    "        \n",
    "nSims = 10000\n",
    "count = 0\n",
    "for idx in range(nSims):\n",
    "    if gen_2samples():\n",
    "        count += 1\n",
    "print(\"{0}/{1}= {2:3.2f}\".format(count, nSims, count/nSims))\n"
   ]
  },
  {
   "cell_type": "code",
   "execution_count": 45,
   "metadata": {
    "collapsed": false
   },
   "outputs": [
    {
     "name": "stdout",
     "output_type": "stream",
     "text": [
      "1: 0.14\n",
      "2: 0.23\n",
      "3: 0.63\n"
     ]
    }
   ],
   "source": [
    "# Analyze the x sequence\n",
    "nSims = 10000\n",
    "\n",
    "counts = gen_seq(nSims)\n",
    "for k, v in counts.items():\n",
    "    print(\"{0}: {1:3.2f}\".format(k, v/nSims))"
   ]
  },
  {
   "cell_type": "code",
   "execution_count": 73,
   "metadata": {
    "collapsed": false
   },
   "outputs": [],
   "source": [
    "# Analyze the y sequence\n",
    "\n",
    "def gen_seq_Y(n_samples = 1000):\n",
    "    out_seq = []\n",
    "    cur_state = np.random.choice([1, 2, 3])\n",
    "    count_dict = {}\n",
    "    for idx in range(1, n_samples):\n",
    "        next_state = gen_next_state(cur_state)\n",
    "        y_state = next_state - cur_state\n",
    "        count_dict[y_state] = count_dict.get(y_state, 0) + 1\n",
    "        cur_state = next_state\n",
    "    return count_dict"
   ]
  },
  {
   "cell_type": "code",
   "execution_count": 74,
   "metadata": {
    "collapsed": false
   },
   "outputs": [
    {
     "name": "stdout",
     "output_type": "stream",
     "text": [
      "0: 0.78\n",
      "1: 0.11\n",
      "-1: 0.11\n"
     ]
    }
   ],
   "source": [
    "counts = gen_seq_Y(nSims)\n",
    "for k, v in counts.items():\n",
    "    print(\"{0}: {1:3.2f}\".format(k, v/nSims))"
   ]
  },
  {
   "cell_type": "markdown",
   "metadata": {},
   "source": [
    "4.5 Given that the nth transition was a transition to the right (Yn=1), find (approximately) the probability that the state at time n−1 was state 1 (i.e., Xn−1=1). Assume that n is large."
   ]
  },
  {
   "cell_type": "code",
   "execution_count": 83,
   "metadata": {
    "collapsed": false
   },
   "outputs": [
    {
     "name": "stdout",
     "output_type": "stream",
     "text": [
      "441/1103= 0.40\n"
     ]
    }
   ],
   "source": [
    "def gen_seq_Y2(n_samples = 1000):\n",
    "    out_seq = []\n",
    "    cur_state = np.random.choice([1, 2, 3])\n",
    "    count_right = 0\n",
    "    count_right_S1 = 0\n",
    "    \n",
    "    for idx in range(1, n_samples):\n",
    "        next_state = gen_next_state(cur_state)\n",
    "        y_state = next_state - cur_state\n",
    "        if y_state == 1:\n",
    "            count_right += 1\n",
    "            if cur_state==1:\n",
    "                count_right_S1 += 1\n",
    "        cur_state = next_state\n",
    "    return count_right, count_right_S1\n",
    "\n",
    "nSims = 10000\n",
    "counts, counts_S1 = gen_seq_Y2(nSims)\n",
    "print(\"{0}/{1}= {2:3.2f}\".format(counts_S1, counts, counts_S1/counts))"
   ]
  },
  {
   "cell_type": "markdown",
   "metadata": {},
   "source": [
    "### Suppose that X0=1. Let T be the first positive time index n at which the state is equal to 1."
   ]
  },
  {
   "cell_type": "code",
   "execution_count": 70,
   "metadata": {
    "collapsed": true
   },
   "outputs": [],
   "source": [
    "def time_to_S1():\n",
    "    cur_state = 1\n",
    "    count_val = 0\n",
    "    succ = False\n",
    "    while not succ:\n",
    "        next_state = gen_next_state(cur_state)\n",
    "        count_val += 1\n",
    "        if next_state == 1:\n",
    "            succ = True\n",
    "        cur_state = next_state\n",
    "    return count_val"
   ]
  },
  {
   "cell_type": "code",
   "execution_count": 72,
   "metadata": {
    "collapsed": false
   },
   "outputs": [
    {
     "name": "stdout",
     "output_type": "stream",
     "text": [
      "8.841\n"
     ]
    }
   ],
   "source": [
    "count_list = []\n",
    "nSims = 5000\n",
    "for idx in range(nSims):\n",
    "    count_list.append(time_to_S1())\n",
    "print(np.mean(count_list))"
   ]
  },
  {
   "cell_type": "code",
   "execution_count": null,
   "metadata": {
    "collapsed": true
   },
   "outputs": [],
   "source": []
  }
 ],
 "metadata": {
  "hide_input": false,
  "kernelspec": {
   "display_name": "Python [default]",
   "language": "python",
   "name": "python3"
  },
  "language_info": {
   "codemirror_mode": {
    "name": "ipython",
    "version": 3
   },
   "file_extension": ".py",
   "mimetype": "text/x-python",
   "name": "python",
   "nbconvert_exporter": "python",
   "pygments_lexer": "ipython3",
   "version": "3.5.2"
  },
  "toc": {
   "colors": {
    "hover_highlight": "#DAA520",
    "running_highlight": "#FF0000",
    "selected_highlight": "#FFD700"
   },
   "moveMenuLeft": true,
   "nav_menu": {
    "height": "30px",
    "width": "252px"
   },
   "navigate_menu": true,
   "number_sections": true,
   "sideBar": true,
   "threshold": 4,
   "toc_cell": false,
   "toc_section_display": "block",
   "toc_window_display": false
  }
 },
 "nbformat": 4,
 "nbformat_minor": 2
}

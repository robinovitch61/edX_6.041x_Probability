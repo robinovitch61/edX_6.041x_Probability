{
 "cells": [
  {
   "cell_type": "code",
   "execution_count": 79,
   "metadata": {
    "collapsed": true
   },
   "outputs": [],
   "source": [
    "import pandas as pd\n",
    "import numpy as np"
   ]
  },
  {
   "cell_type": "markdown",
   "metadata": {},
   "source": [
    "# Problem 4 Vertical: Victor and his umbrella\n"
   ]
  },
  {
   "cell_type": "code",
   "execution_count": 80,
   "metadata": {
    "collapsed": false
   },
   "outputs": [],
   "source": [
    "N = 100000\n",
    "prob_forecast = 0.2\n",
    "prob_seen = 0.8\n",
    "\n",
    "\n",
    "forecast = np.random.rand(N) <= prob_forecast\n",
    "seen = np.random.rand(N) <= prob_seen\n",
    "umbrella = np.array([False]*N)\n",
    "rain = np.array([False]*N)\n",
    "\n",
    "# decision on rain\n",
    "for idx, f in enumerate(forecast):\n",
    "    if f:\n",
    "        r = np.random.rand(1) <= 0.8\n",
    "    else:\n",
    "        r = np.random.rand(1) <= 0.1\n",
    "    rain[idx] = r\n",
    "\n",
    "# decision to take umbrella\n",
    "for idx, fs in enumerate(zip(forecast, seen)):\n",
    "    f, s = fs\n",
    "    if s:  # saw forecast\n",
    "        u = f\n",
    "    else: # did not see forecase\n",
    "        u = np.random.rand(1) <= 0.5\n",
    "    umbrella[idx] = u"
   ]
  },
  {
   "cell_type": "code",
   "execution_count": 81,
   "metadata": {
    "collapsed": false
   },
   "outputs": [],
   "source": [
    "df = pd.DataFrame({'Seen': seen, 'Forecast': forecast, 'Umbrella': umbrella,\n",
    "                  'Rain': rain})"
   ]
  },
  {
   "cell_type": "markdown",
   "metadata": {},
   "source": [
    " **Part 1**: One day, Victor missed the forecast and it rained. What is the probability that the forecast was “rain\"?"
   ]
  },
  {
   "cell_type": "code",
   "execution_count": 82,
   "metadata": {
    "collapsed": false
   },
   "outputs": [
    {
     "name": "stdout",
     "output_type": "stream",
     "text": [
      "Prob of forecast=rain given rain: 0.6675613336129168\n"
     ]
    }
   ],
   "source": [
    "num_rain = np.sum(df.Rain)\n",
    "num_forecast_rain = np.sum(df.Forecast & df.Rain)\n",
    "prob_forecast_given_rain = num_forecast_rain/num_rain\n",
    "\n",
    "print('Prob of forecast=rain given rain: {0}'.format(prob_forecast_given_rain))"
   ]
  },
  {
   "cell_type": "markdown",
   "metadata": {},
   "source": [
    "**Part 2**: Victor misses the morning forecast with probability 0.2 on any day in the year. If he misses the forecast, Victor will flip a fair coin to decide whether to carry an umbrella. (We assume that the result of the coin flip is independent from the forecast and the weather.) On any day he sees the forecast, if it says “rain\" he will always carry an umbrella, and if it says “no rain\" he will not carry an umbrella. Let U be the event that “Victor is carrying an umbrella\", and let N be the event that the forecast is “no rain\". Are events U and N independent?"
   ]
  },
  {
   "cell_type": "code",
   "execution_count": 94,
   "metadata": {
    "collapsed": false
   },
   "outputs": [
    {
     "name": "stdout",
     "output_type": "stream",
     "text": [
      "0.18000000000000005\n"
     ]
    }
   ],
   "source": [
    "#u = .8*.2 + .5*.2*.2 + .5*.2*.8\n",
    "#print(u)\n",
    "uf = .2*.8 + .5*.2*.2\n",
    "print(uf)\n"
   ]
  },
  {
   "cell_type": "code",
   "execution_count": 89,
   "metadata": {
    "collapsed": true
   },
   "outputs": [],
   "source": [
    "# Probability of U\n",
    "u_prob = np.sum(df.Umbrella == True)/N\n",
    "f_prob = np.sum(df.Forecast == True)/N\n",
    "uf_prob = np.sum(df.Umbrella & df.Forecast)/N\n",
    "uf_prod_prob = u_prob * f_prob"
   ]
  },
  {
   "cell_type": "code",
   "execution_count": 90,
   "metadata": {
    "collapsed": false
   },
   "outputs": [
    {
     "name": "stdout",
     "output_type": "stream",
     "text": [
      "U: 0.26, F: 0.20: U&F: 0.18\n",
      "U*F: 0.05\n"
     ]
    }
   ],
   "source": [
    "print(\"U: {0:.2f}, F: {1:.2f}: U&F: {2:.2f}\".format(u_prob, f_prob, uf_prob))\n",
    "print(\"U*F: {0:.2f}\".format(uf_prod_prob))"
   ]
  },
  {
   "cell_type": "markdown",
   "metadata": {},
   "source": [
    " Victor is carrying an umbrella and it is not raining. What is the probability that he saw the forecast?"
   ]
  },
  {
   "cell_type": "code",
   "execution_count": 85,
   "metadata": {
    "collapsed": false
   },
   "outputs": [
    {
     "name": "stdout",
     "output_type": "stream",
     "text": [
      "Prob. of seen 0.2974177967676017\n"
     ]
    }
   ],
   "source": [
    "num_umb_norain = np.sum(df.Umbrella & ~df.Rain)\n",
    "num_umb_norain_seen = np.sum([df.Umbrella & ~df.Rain & df.Seen])\n",
    "seen_prob = num_umb_norain_seen/num_umb_norain\n",
    "\n",
    "print('Prob. of seen {0}'.format(seen_prob))"
   ]
  },
  {
   "cell_type": "code",
   "execution_count": 86,
   "metadata": {
    "collapsed": false
   },
   "outputs": [
    {
     "data": {
      "text/plain": [
       "0.29629629629629634"
      ]
     },
     "execution_count": 86,
     "metadata": {},
     "output_type": "execute_result"
    }
   ],
   "source": [
    "num=0.2*.2*.8\n",
    "den = num + (.5*.2*.2 + .5*.9*.8)*.2\n",
    "num/den"
   ]
  },
  {
   "cell_type": "code",
   "execution_count": 100,
   "metadata": {
    "collapsed": false
   },
   "outputs": [
    {
     "data": {
      "text/plain": [
       "0.03200000000000001"
      ]
     },
     "execution_count": 100,
     "metadata": {},
     "output_type": "execute_result"
    }
   ],
   "source": [
    "num"
   ]
  },
  {
   "cell_type": "code",
   "execution_count": 101,
   "metadata": {
    "collapsed": false
   },
   "outputs": [
    {
     "data": {
      "text/plain": [
       "0.10800000000000001"
      ]
     },
     "execution_count": 101,
     "metadata": {},
     "output_type": "execute_result"
    }
   ],
   "source": [
    "den"
   ]
  },
  {
   "cell_type": "code",
   "execution_count": null,
   "metadata": {
    "collapsed": true
   },
   "outputs": [],
   "source": []
  }
 ],
 "metadata": {
  "anaconda-cloud": {},
  "kernelspec": {
   "display_name": "Python [default]",
   "language": "python",
   "name": "python3"
  },
  "language_info": {
   "codemirror_mode": {
    "name": "ipython",
    "version": 3
   },
   "file_extension": ".py",
   "mimetype": "text/x-python",
   "name": "python",
   "nbconvert_exporter": "python",
   "pygments_lexer": "ipython3",
   "version": "3.5.2"
  }
 },
 "nbformat": 4,
 "nbformat_minor": 1
}

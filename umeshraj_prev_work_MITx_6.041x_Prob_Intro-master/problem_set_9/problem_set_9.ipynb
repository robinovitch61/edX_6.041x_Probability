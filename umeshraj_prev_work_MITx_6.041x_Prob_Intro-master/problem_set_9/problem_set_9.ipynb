{
 "cells": [
  {
   "cell_type": "code",
   "execution_count": 1,
   "metadata": {
    "collapsed": true
   },
   "outputs": [],
   "source": [
    "%matplotlib inline\n",
    "import numpy as np\n",
    "import seaborn as sns"
   ]
  },
  {
   "cell_type": "code",
   "execution_count": null,
   "metadata": {
    "collapsed": true
   },
   "outputs": [],
   "source": [
    "def get_door():\n",
    "    door = np.random.choice([0, 1], size=1, p=[1/4, 3/4])\n",
    "    return door\n",
    "\n",
    "def get_dog():\n",
    "    dog = np.random.choice([0, 1], size=1, p=[1/3, 2/3])\n",
    "    return dog\n",
    "\n",
    "def visits_until_restock(samples):\n",
    "    num_visits = 0\n",
    "    while samples > 0:\n",
    "        num_visits += 1\n",
    "        dog = get_dog()\n",
    "        door = get_door()\n",
    "        if dog and door:\n",
    "            samples-=1\n",
    "    return num_visits\n",
    "\n",
    "def visits_until_restock_wdog(samples):\n",
    "    num_visits = 0\n",
    "    while samples > 0:\n",
    "        dog = get_dog()\n",
    "        door = get_door()\n",
    "        if dog and not door:\n",
    "            num_visits += 1\n",
    "        if dog and door:\n",
    "            samples-=1\n",
    "            \n",
    "    return num_visits"
   ]
  },
  {
   "cell_type": "code",
   "execution_count": null,
   "metadata": {
    "collapsed": false
   },
   "outputs": [],
   "source": [
    "nSims = 10000\n",
    "visit_list = []\n",
    "for idx in range(nSims):\n",
    "    visit_list.append(visits_until_restock(2))"
   ]
  },
  {
   "cell_type": "code",
   "execution_count": null,
   "metadata": {
    "collapsed": false
   },
   "outputs": [],
   "source": [
    "np.bincount(visit_list)"
   ]
  },
  {
   "cell_type": "code",
   "execution_count": null,
   "metadata": {
    "collapsed": false
   },
   "outputs": [],
   "source": [
    "print(3/16 * nSims)\n",
    "print(1/8 * nSims)"
   ]
  },
  {
   "cell_type": "code",
   "execution_count": null,
   "metadata": {
    "collapsed": false
   },
   "outputs": [],
   "source": [
    "sns.distplot(visit_list, kde=False)"
   ]
  },
  {
   "cell_type": "code",
   "execution_count": null,
   "metadata": {
    "collapsed": false
   },
   "outputs": [],
   "source": [
    "visit_list = np.array(visit_list)\n",
    "1- np.sum(visit_list < 5)/nSims"
   ]
  },
  {
   "cell_type": "code",
   "execution_count": null,
   "metadata": {
    "collapsed": false
   },
   "outputs": [],
   "source": [
    "1 - 1/4 - 1/4 - 3/16"
   ]
  },
  {
   "cell_type": "markdown",
   "metadata": {},
   "source": [
    "## 1.6  Fred visits but does not leave a sample"
   ]
  },
  {
   "cell_type": "code",
   "execution_count": null,
   "metadata": {
    "collapsed": true
   },
   "outputs": [],
   "source": [
    "nSims = 10000\n",
    "visit_list = []\n",
    "for idx in range(nSims):\n",
    "    visit_list.append(visits_until_restock_wdog(10))\n",
    "    "
   ]
  },
  {
   "cell_type": "code",
   "execution_count": null,
   "metadata": {
    "collapsed": false
   },
   "outputs": [],
   "source": [
    "np.mean(visit_list)"
   ]
  },
  {
   "cell_type": "code",
   "execution_count": null,
   "metadata": {
    "collapsed": true
   },
   "outputs": [],
   "source": [
    "10/"
   ]
  },
  {
   "cell_type": "markdown",
   "metadata": {},
   "source": [
    "# 4.5 Prob. of switching directions"
   ]
  },
  {
   "cell_type": "code",
   "execution_count": 7,
   "metadata": {
    "collapsed": false
   },
   "outputs": [
    {
     "name": "stdout",
     "output_type": "stream",
     "text": [
      "[1 1 1 ..., 1 1 0]\n",
      "Fraction of flips: 1809/10000 = 0.1809\n"
     ]
    }
   ],
   "source": [
    "nSims = 10000\n",
    "p_head = 0.1\n",
    "p_tail = 1-p_head\n",
    "ur = np.random.choice([0, 1], size=nSims, p=[p_head, p_tail])\n",
    "num_flips = 0\n",
    "for idx in range(1, len(ur)):\n",
    "    if ur[idx] != ur[idx-1]:\n",
    "        num_flips += 1\n",
    "print(ur)        \n",
    "print(\"Fraction of flips: {0}/{1} = {2}\".format(num_flips, nSims, num_flips/nSims))    "
   ]
  },
  {
   "cell_type": "code",
   "execution_count": 8,
   "metadata": {
    "collapsed": false
   },
   "outputs": [
    {
     "name": "stdout",
     "output_type": "stream",
     "text": [
      "Theoretical prediction: 0.18000000000000002\n"
     ]
    }
   ],
   "source": [
    "theory_pred = 2 * p_head * p_tail\n",
    "print(\"Theoretical prediction: {0}\".format(theory_pred))"
   ]
  },
  {
   "cell_type": "code",
   "execution_count": null,
   "metadata": {
    "collapsed": true
   },
   "outputs": [],
   "source": []
  }
 ],
 "metadata": {
  "hide_input": false,
  "kernelspec": {
   "display_name": "Python [default]",
   "language": "python",
   "name": "python3"
  },
  "language_info": {
   "codemirror_mode": {
    "name": "ipython",
    "version": 3
   },
   "file_extension": ".py",
   "mimetype": "text/x-python",
   "name": "python",
   "nbconvert_exporter": "python",
   "pygments_lexer": "ipython3",
   "version": "3.5.2"
  },
  "toc": {
   "colors": {
    "hover_highlight": "#DAA520",
    "running_highlight": "#FF0000",
    "selected_highlight": "#FFD700"
   },
   "moveMenuLeft": true,
   "nav_menu": {
    "height": "47px",
    "width": "252px"
   },
   "navigate_menu": true,
   "number_sections": true,
   "sideBar": true,
   "threshold": 4,
   "toc_cell": false,
   "toc_section_display": "block",
   "toc_window_display": true
  }
 },
 "nbformat": 4,
 "nbformat_minor": 2
}
